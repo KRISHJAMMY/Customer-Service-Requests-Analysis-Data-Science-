{
 "cells": [
  {
   "cell_type": "markdown",
   "metadata": {},
   "source": [
    "- Fresh kernel \n",
    "- the variables / data created here , the scope is limited to this kernel only \n",
    "- evrytime close the kernel/ notebook . all the data is destroyed "
   ]
  },
  {
   "cell_type": "markdown",
   "metadata": {},
   "source": [
    "## Python Comment"
   ]
  },
  {
   "cell_type": "code",
   "execution_count": 2,
   "metadata": {},
   "outputs": [],
   "source": [
    "# Comment "
   ]
  },
  {
   "cell_type": "markdown",
   "metadata": {},
   "source": [
    "## Identifiers : names given to variables / functions /classes \n",
    "    - identifier should start with a letter [ A - Z a - z ] or an uderscore [ _ ]\n",
    "    - it may or may not be followed by 1 or more combination of letters underscore or digits [ 0 - 9 ]\n",
    "    - it may not not include any special character\n",
    "    - Reserved Words CANNOT be used : class for if else break \n",
    "    - Builtins SHOULD NOT be use : print len ....\n",
    "    - CASE SENSITIVE"
   ]
  },
  {
   "cell_type": "markdown",
   "metadata": {},
   "source": [
    "## Data Types \n",
    "        - Integer\n",
    "        - Float\n",
    "        - Boolean\n",
    "        - String"
   ]
  },
  {
   "cell_type": "markdown",
   "metadata": {},
   "source": [
    "# Python Strings"
   ]
  },
  {
   "cell_type": "code",
   "execution_count": 3,
   "metadata": {},
   "outputs": [
    {
     "name": "stdout",
     "output_type": "stream",
     "text": [
      "From small beginnings come great successes !\n"
     ]
    }
   ],
   "source": [
    "message = 'From small beginnings come great successes !'\n",
    "print(message)"
   ]
  },
  {
   "cell_type": "code",
   "execution_count": 4,
   "metadata": {},
   "outputs": [
    {
     "name": "stdout",
     "output_type": "stream",
     "text": [
      "You can't rise above by pulling others down!!\n"
     ]
    }
   ],
   "source": [
    "message2 = 'You can\\'t rise above by pulling others down!!'\n",
    "print(message2)"
   ]
  },
  {
   "cell_type": "code",
   "execution_count": 5,
   "metadata": {},
   "outputs": [
    {
     "name": "stdout",
     "output_type": "stream",
     "text": [
      "You can't rise above by pulling others down!!\n"
     ]
    }
   ],
   "source": [
    "message2 = \"You can't rise above by pulling others down!!\"\n",
    "print(message2)"
   ]
  },
  {
   "cell_type": "markdown",
   "metadata": {},
   "source": [
    "### - one statement one line"
   ]
  },
  {
   "cell_type": "code",
   "execution_count": 6,
   "metadata": {},
   "outputs": [
    {
     "ename": "SyntaxError",
     "evalue": "invalid syntax (<ipython-input-6-21b503d10fa7>, line 2)",
     "output_type": "error",
     "traceback": [
      "\u001b[1;36m  File \u001b[1;32m\"<ipython-input-6-21b503d10fa7>\"\u001b[1;36m, line \u001b[1;32m2\u001b[0m\n\u001b[1;33m    34 +\u001b[0m\n\u001b[1;37m         ^\u001b[0m\n\u001b[1;31mSyntaxError\u001b[0m\u001b[1;31m:\u001b[0m invalid syntax\n"
     ]
    }
   ],
   "source": [
    "# does not work\n",
    "34 + \n",
    "45 "
   ]
  },
  {
   "cell_type": "code",
   "execution_count": 7,
   "metadata": {},
   "outputs": [
    {
     "data": {
      "text/plain": [
       "79"
      ]
     },
     "execution_count": 7,
     "metadata": {},
     "output_type": "execute_result"
    }
   ],
   "source": [
    "# use explicit continuation operator \n",
    "34 +\\\n",
    "45"
   ]
  },
  {
   "cell_type": "code",
   "execution_count": 8,
   "metadata": {},
   "outputs": [
    {
     "data": {
      "text/plain": [
       "79"
      ]
     },
     "execution_count": 8,
     "metadata": {},
     "output_type": "execute_result"
    }
   ],
   "source": [
    "# use parenthesis \n",
    "(34 +\n",
    "45)"
   ]
  },
  {
   "cell_type": "code",
   "execution_count": 9,
   "metadata": {},
   "outputs": [
    {
     "data": {
      "text/plain": [
       "\"To be, or not to be, that is the question:Whether 'tis nobler in the mind to sufferThe slings and arrows of outrageous fortune,Or to take arms against a sea of troublesAnd by opposing end them.\""
      ]
     },
     "execution_count": 9,
     "metadata": {},
     "output_type": "execute_result"
    }
   ],
   "source": [
    "\"To be, or not to be, that is the question:\\\n",
    "Whether 'tis nobler in the mind to suffer\\\n",
    "The slings and arrows of outrageous fortune,\\\n",
    "Or to take arms against a sea of troubles\\\n",
    "And by opposing end them.\""
   ]
  },
  {
   "cell_type": "code",
   "execution_count": 26,
   "metadata": {},
   "outputs": [
    {
     "name": "stdout",
     "output_type": "stream",
     "text": [
      "To be, or not to be, that is the question:\n",
      "Whether 'tis nobler in the mind to suffer\n",
      "The slings and arrows of outrageous fortune,\n",
      "Or to take arms against a sea of troubles\n",
      "And by opposing end them.\n"
     ]
    }
   ],
   "source": [
    "print(\"To be, or not to be, that is the question:\\nWhether 'tis nobler in the mind to suffer\\nThe slings and arrows of outrageous fortune,\\nOr to take arms against a sea of troubles\\nAnd by opposing end them.\")"
   ]
  },
  {
   "cell_type": "code",
   "execution_count": 28,
   "metadata": {},
   "outputs": [
    {
     "name": "stdout",
     "output_type": "stream",
     "text": [
      "To be, or not to be, that is the question:\n",
      "Whether 'tis nobler in the mind to suffer\n",
      "The slings and arrows of outrageous fortune,\n",
      "Or to take arms against a sea of troubles\n",
      "And by opposing end them.\n"
     ]
    }
   ],
   "source": [
    "print('''To be, or not to be, that is the question:\n",
    "Whether 'tis nobler in the mind to suffer\n",
    "The slings and arrows of outrageous fortune,\n",
    "Or to take arms against a sea of troubles\n",
    "And by opposing end them.''')"
   ]
  },
  {
   "cell_type": "code",
   "execution_count": 10,
   "metadata": {},
   "outputs": [
    {
     "name": "stdout",
     "output_type": "stream",
     "text": [
      "To be, or not to be, that is the question:\n",
      "Whether 'tis nobler in the mind to suffer\n",
      "The slings and arrows of outrageous fortune,\n",
      "Or to take arms against a sea of troubles\n",
      "And by opposing end them.\n"
     ]
    }
   ],
   "source": [
    "print(\"\"\"To be, or not to be, that is the question:\n",
    "Whether 'tis nobler in the mind to suffer\n",
    "The slings and arrows of outrageous fortune,\n",
    "Or to take arms against a sea of troubles\n",
    "And by opposing end them.\"\"\")"
   ]
  },
  {
   "cell_type": "markdown",
   "metadata": {},
   "source": [
    "### string is an object of string class"
   ]
  },
  {
   "cell_type": "code",
   "execution_count": 17,
   "metadata": {
    "scrolled": true,
    "tags": []
   },
   "outputs": [
    {
     "name": "stdout",
     "output_type": "stream",
     "text": [
      "Help on built-in function upper:\n",
      "\n",
      "upper() method of builtins.str instance\n",
      "    Return a copy of the string converted to uppercase.\n",
      "\n"
     ]
    },
    {
     "data": {
      "text/plain": [
       "'I AM A STRING'"
      ]
     },
     "execution_count": 17,
     "metadata": {},
     "output_type": "execute_result"
    }
   ],
   "source": [
    "# get builtin functions associated with strings \n",
    "text= \"I am a string\"\n",
    "# dir is special function in python which lists all the attributes of the objects in the current scope.\n",
    "#dir(text)\n",
    "#help is used to read the help document for the specific attribute\n",
    "#help(text.upper)\n",
    "text.upper()"
   ]
  },
  {
   "cell_type": "markdown",
   "metadata": {},
   "source": [
    "## dot operator "
   ]
  },
  {
   "cell_type": "code",
   "execution_count": 38,
   "metadata": {},
   "outputs": [
    {
     "data": {
      "text/plain": [
       "'FROM SMALL BEGINNINGS COME GREAT SUCCESSES !'"
      ]
     },
     "execution_count": 38,
     "metadata": {},
     "output_type": "execute_result"
    }
   ],
   "source": [
    "message.upper()"
   ]
  },
  {
   "cell_type": "code",
   "execution_count": 39,
   "metadata": {},
   "outputs": [
    {
     "data": {
      "text/plain": [
       "5"
      ]
     },
     "execution_count": 39,
     "metadata": {},
     "output_type": "execute_result"
    }
   ],
   "source": [
    "message.find('s')# press tab"
   ]
  },
  {
   "cell_type": "markdown",
   "metadata": {},
   "source": [
    "# Numbers"
   ]
  },
  {
   "cell_type": "code",
   "execution_count": 40,
   "metadata": {},
   "outputs": [],
   "source": [
    "a = 146\n",
    "b = 45.78"
   ]
  },
  {
   "cell_type": "markdown",
   "metadata": {},
   "source": [
    "### how to get what object is storing what type of data ??"
   ]
  },
  {
   "cell_type": "code",
   "execution_count": 41,
   "metadata": {},
   "outputs": [
    {
     "data": {
      "text/plain": [
       "int"
      ]
     },
     "execution_count": 41,
     "metadata": {},
     "output_type": "execute_result"
    }
   ],
   "source": [
    "type(a)"
   ]
  },
  {
   "cell_type": "code",
   "execution_count": 42,
   "metadata": {},
   "outputs": [
    {
     "data": {
      "text/plain": [
       "float"
      ]
     },
     "execution_count": 42,
     "metadata": {},
     "output_type": "execute_result"
    }
   ],
   "source": [
    "type(b)"
   ]
  },
  {
   "cell_type": "code",
   "execution_count": 43,
   "metadata": {},
   "outputs": [
    {
     "data": {
      "text/plain": [
       "str"
      ]
     },
     "execution_count": 43,
     "metadata": {},
     "output_type": "execute_result"
    }
   ],
   "source": [
    "type(message)"
   ]
  },
  {
   "cell_type": "code",
   "execution_count": 44,
   "metadata": {},
   "outputs": [
    {
     "name": "stdout",
     "output_type": "stream",
     "text": [
      "<class 'int'>\n",
      "<class 'float'>\n",
      "<class 'str'>\n"
     ]
    }
   ],
   "source": [
    "print(type(a))\n",
    "print(type(b))\n",
    "print(type(message))"
   ]
  },
  {
   "cell_type": "markdown",
   "metadata": {},
   "source": [
    "## boolean 3"
   ]
  },
  {
   "cell_type": "code",
   "execution_count": 45,
   "metadata": {},
   "outputs": [],
   "source": [
    "x = True\n",
    "y = False"
   ]
  },
  {
   "cell_type": "code",
   "execution_count": 46,
   "metadata": {},
   "outputs": [
    {
     "name": "stdout",
     "output_type": "stream",
     "text": [
      "<class 'bool'>\n"
     ]
    }
   ],
   "source": [
    "print(type(x))"
   ]
  },
  {
   "cell_type": "code",
   "execution_count": 52,
   "metadata": {},
   "outputs": [
    {
     "data": {
      "text/plain": [
       "(1610740554226729, 35184372088832)"
      ]
     },
     "execution_count": 52,
     "metadata": {},
     "output_type": "execute_result"
    }
   ],
   "source": [
    "b.as_integer_ratio()"
   ]
  },
  {
   "cell_type": "code",
   "execution_count": 53,
   "metadata": {},
   "outputs": [],
   "source": [
    "d = 3/4"
   ]
  },
  {
   "cell_type": "code",
   "execution_count": 54,
   "metadata": {},
   "outputs": [
    {
     "data": {
      "text/plain": [
       "0.75"
      ]
     },
     "execution_count": 54,
     "metadata": {},
     "output_type": "execute_result"
    }
   ],
   "source": [
    "d"
   ]
  },
  {
   "cell_type": "code",
   "execution_count": 55,
   "metadata": {},
   "outputs": [
    {
     "data": {
      "text/plain": [
       "(3, 4)"
      ]
     },
     "execution_count": 55,
     "metadata": {},
     "output_type": "execute_result"
    }
   ],
   "source": [
    "d.as_integer_ratio()"
   ]
  },
  {
   "cell_type": "markdown",
   "metadata": {},
   "source": [
    "## Type Conversion"
   ]
  },
  {
   "cell_type": "markdown",
   "metadata": {},
   "source": [
    "### int() float() str() bool()"
   ]
  },
  {
   "cell_type": "markdown",
   "metadata": {},
   "source": [
    "# convert to string"
   ]
  },
  {
   "cell_type": "code",
   "execution_count": 18,
   "metadata": {},
   "outputs": [
    {
     "name": "stdout",
     "output_type": "stream",
     "text": [
      "23  :  <class 'int'> String Conversion 23  :  <class 'str'>\n",
      "34.77  :  <class 'float'> String Conversion 34.77  :  <class 'str'>\n",
      "True  :  <class 'bool'> String Conversion True  :  <class 'str'>\n"
     ]
    }
   ],
   "source": [
    "ex1 = 23\n",
    "ex2 = 34.77\n",
    "ex3 = True\n",
    "\n",
    "print(ex1 , ' : ',type(ex1), 'String Conversion', str(ex1), ' : ', type(str(ex1)))\n",
    "print(ex2 , ' : ',type(ex2), 'String Conversion',  str(ex2), ' : ', type(str(ex2)))\n",
    "print(ex3 , ' : ',type(ex3), 'String Conversion',  str(ex3), ' : ', type(str(ex3)))\n"
   ]
  },
  {
   "cell_type": "markdown",
   "metadata": {},
   "source": [
    "# Conversion between int & float "
   ]
  },
  {
   "cell_type": "code",
   "execution_count": 60,
   "metadata": {},
   "outputs": [
    {
     "data": {
      "text/plain": [
       "56.0"
      ]
     },
     "execution_count": 60,
     "metadata": {},
     "output_type": "execute_result"
    }
   ],
   "source": [
    "ex4 = 56\n",
    "float(56)"
   ]
  },
  {
   "cell_type": "code",
   "execution_count": 61,
   "metadata": {},
   "outputs": [
    {
     "data": {
      "text/plain": [
       "76"
      ]
     },
     "execution_count": 61,
     "metadata": {},
     "output_type": "execute_result"
    }
   ],
   "source": [
    "ex5 = 76.999\n",
    "int(ex5)"
   ]
  },
  {
   "cell_type": "markdown",
   "metadata": {},
   "source": [
    "# Conversion to boolean "
   ]
  },
  {
   "cell_type": "code",
   "execution_count": 66,
   "metadata": {},
   "outputs": [],
   "source": [
    "ex6 = 0\n",
    "ex7 = 34\n",
    "ex8 = -98\n",
    "ex9 = ''\n",
    "ex10 = ' '\n",
    "ex11= 'False'\n",
    "ex12 = 0.0000000000000000001"
   ]
  },
  {
   "cell_type": "code",
   "execution_count": 67,
   "metadata": {},
   "outputs": [
    {
     "name": "stdout",
     "output_type": "stream",
     "text": [
      "0 --> False\n",
      "34 --> True\n",
      "-98 --> True\n",
      " --> False\n",
      "  --> True\n",
      "False --> True\n",
      "1e-19 --> True\n"
     ]
    }
   ],
   "source": [
    "print(ex6 , '-->', bool(ex6))\n",
    "print(ex7 , '-->', bool(ex7))\n",
    "print(ex8 , '-->', bool(ex8))\n",
    "print(ex9 , '-->', bool(ex9))\n",
    "print(ex10 , '-->', bool(ex10))\n",
    "print(ex11 , '-->', bool(ex11))\n",
    "print(ex12 , '-->', bool(ex12))\n"
   ]
  },
  {
   "cell_type": "markdown",
   "metadata": {},
   "source": [
    "# Conversion from string to int or float"
   ]
  },
  {
   "cell_type": "code",
   "execution_count": 82,
   "metadata": {},
   "outputs": [],
   "source": [
    "s1 = '23'\n",
    "s2 = ' 45 '\n",
    "s3 = ' -45'\n",
    "s4 = '45 76'\n",
    "s5 = '98.77'\n",
    "s6 = '6798 s'"
   ]
  },
  {
   "cell_type": "markdown",
   "metadata": {},
   "source": [
    "### to int"
   ]
  },
  {
   "cell_type": "code",
   "execution_count": 77,
   "metadata": {},
   "outputs": [
    {
     "name": "stdout",
     "output_type": "stream",
     "text": [
      "23  -->   23\n",
      " 45   -->   45\n",
      " -45  -->   -45\n"
     ]
    }
   ],
   "source": [
    "print(s1, ' -->  ', int(s1))\n",
    "print(s2, ' -->  ', int(s2))\n",
    "print(s3, ' -->  ', int(s3))"
   ]
  },
  {
   "cell_type": "code",
   "execution_count": 79,
   "metadata": {},
   "outputs": [
    {
     "name": "stdout",
     "output_type": "stream",
     "text": [
      "45 76\n"
     ]
    },
    {
     "ename": "ValueError",
     "evalue": "invalid literal for int() with base 10: '45 76'",
     "output_type": "error",
     "traceback": [
      "\u001b[0;31m---------------------------------------------------------------------------\u001b[0m",
      "\u001b[0;31mValueError\u001b[0m                                Traceback (most recent call last)",
      "\u001b[0;32m<ipython-input-79-9c93eff9a113>\u001b[0m in \u001b[0;36m<module>\u001b[0;34m\u001b[0m\n\u001b[1;32m      1\u001b[0m \u001b[0mprint\u001b[0m\u001b[0;34m(\u001b[0m\u001b[0ms4\u001b[0m \u001b[0;34m)\u001b[0m\u001b[0;34m\u001b[0m\u001b[0;34m\u001b[0m\u001b[0m\n\u001b[0;32m----> 2\u001b[0;31m \u001b[0mprint\u001b[0m\u001b[0;34m(\u001b[0m\u001b[0mint\u001b[0m\u001b[0;34m(\u001b[0m\u001b[0ms4\u001b[0m\u001b[0;34m)\u001b[0m\u001b[0;34m)\u001b[0m\u001b[0;34m\u001b[0m\u001b[0;34m\u001b[0m\u001b[0m\n\u001b[0m",
      "\u001b[0;31mValueError\u001b[0m: invalid literal for int() with base 10: '45 76'"
     ]
    }
   ],
   "source": [
    "print(s4 )\n",
    "print(int(s4))"
   ]
  },
  {
   "cell_type": "code",
   "execution_count": 80,
   "metadata": {},
   "outputs": [
    {
     "name": "stdout",
     "output_type": "stream",
     "text": [
      "98.77\n"
     ]
    },
    {
     "ename": "ValueError",
     "evalue": "invalid literal for int() with base 10: '98.77'",
     "output_type": "error",
     "traceback": [
      "\u001b[0;31m---------------------------------------------------------------------------\u001b[0m",
      "\u001b[0;31mValueError\u001b[0m                                Traceback (most recent call last)",
      "\u001b[0;32m<ipython-input-80-e52d463a1dc6>\u001b[0m in \u001b[0;36m<module>\u001b[0;34m\u001b[0m\n\u001b[1;32m      1\u001b[0m \u001b[0mprint\u001b[0m\u001b[0;34m(\u001b[0m\u001b[0ms5\u001b[0m \u001b[0;34m)\u001b[0m\u001b[0;34m\u001b[0m\u001b[0;34m\u001b[0m\u001b[0m\n\u001b[0;32m----> 2\u001b[0;31m \u001b[0mprint\u001b[0m\u001b[0;34m(\u001b[0m\u001b[0mint\u001b[0m\u001b[0;34m(\u001b[0m\u001b[0ms5\u001b[0m\u001b[0;34m)\u001b[0m\u001b[0;34m)\u001b[0m\u001b[0;34m\u001b[0m\u001b[0;34m\u001b[0m\u001b[0m\n\u001b[0m",
      "\u001b[0;31mValueError\u001b[0m: invalid literal for int() with base 10: '98.77'"
     ]
    }
   ],
   "source": [
    "print(s5 )\n",
    "print(int(s5))"
   ]
  },
  {
   "cell_type": "code",
   "execution_count": 83,
   "metadata": {},
   "outputs": [
    {
     "name": "stdout",
     "output_type": "stream",
     "text": [
      "6798 s\n"
     ]
    },
    {
     "ename": "ValueError",
     "evalue": "invalid literal for int() with base 10: '6798 s'",
     "output_type": "error",
     "traceback": [
      "\u001b[0;31m---------------------------------------------------------------------------\u001b[0m",
      "\u001b[0;31mValueError\u001b[0m                                Traceback (most recent call last)",
      "\u001b[0;32m<ipython-input-83-6b32f5147d0a>\u001b[0m in \u001b[0;36m<module>\u001b[0;34m\u001b[0m\n\u001b[1;32m      1\u001b[0m \u001b[0mprint\u001b[0m\u001b[0;34m(\u001b[0m\u001b[0ms6\u001b[0m \u001b[0;34m)\u001b[0m\u001b[0;34m\u001b[0m\u001b[0;34m\u001b[0m\u001b[0m\n\u001b[0;32m----> 2\u001b[0;31m \u001b[0mprint\u001b[0m\u001b[0;34m(\u001b[0m\u001b[0mint\u001b[0m\u001b[0;34m(\u001b[0m\u001b[0ms6\u001b[0m\u001b[0;34m)\u001b[0m\u001b[0;34m)\u001b[0m\u001b[0;34m\u001b[0m\u001b[0;34m\u001b[0m\u001b[0m\n\u001b[0m",
      "\u001b[0;31mValueError\u001b[0m: invalid literal for int() with base 10: '6798 s'"
     ]
    }
   ],
   "source": [
    "print(s6 )\n",
    "print(int(s6))"
   ]
  },
  {
   "cell_type": "markdown",
   "metadata": {},
   "source": [
    "# to float"
   ]
  },
  {
   "cell_type": "code",
   "execution_count": 85,
   "metadata": {},
   "outputs": [
    {
     "name": "stdout",
     "output_type": "stream",
     "text": [
      "23  -->   23.0\n",
      " 45   -->   45.0\n",
      " -45  -->   -45.0\n"
     ]
    },
    {
     "ename": "ValueError",
     "evalue": "could not convert string to float: '45 76'",
     "output_type": "error",
     "traceback": [
      "\u001b[0;31m---------------------------------------------------------------------------\u001b[0m",
      "\u001b[0;31mValueError\u001b[0m                                Traceback (most recent call last)",
      "\u001b[0;32m<ipython-input-85-431fcb2e335d>\u001b[0m in \u001b[0;36m<module>\u001b[0;34m\u001b[0m\n\u001b[1;32m      2\u001b[0m \u001b[0mprint\u001b[0m\u001b[0;34m(\u001b[0m\u001b[0ms2\u001b[0m\u001b[0;34m,\u001b[0m \u001b[0;34m' -->  '\u001b[0m\u001b[0;34m,\u001b[0m \u001b[0mfloat\u001b[0m\u001b[0;34m(\u001b[0m\u001b[0ms2\u001b[0m\u001b[0;34m)\u001b[0m\u001b[0;34m)\u001b[0m\u001b[0;34m\u001b[0m\u001b[0;34m\u001b[0m\u001b[0m\n\u001b[1;32m      3\u001b[0m \u001b[0mprint\u001b[0m\u001b[0;34m(\u001b[0m\u001b[0ms3\u001b[0m\u001b[0;34m,\u001b[0m \u001b[0;34m' -->  '\u001b[0m\u001b[0;34m,\u001b[0m \u001b[0mfloat\u001b[0m\u001b[0;34m(\u001b[0m\u001b[0ms3\u001b[0m\u001b[0;34m)\u001b[0m\u001b[0;34m)\u001b[0m\u001b[0;34m\u001b[0m\u001b[0;34m\u001b[0m\u001b[0m\n\u001b[0;32m----> 4\u001b[0;31m \u001b[0mprint\u001b[0m\u001b[0;34m(\u001b[0m\u001b[0ms4\u001b[0m\u001b[0;34m,\u001b[0m \u001b[0;34m' -->  '\u001b[0m\u001b[0;34m,\u001b[0m \u001b[0mfloat\u001b[0m\u001b[0;34m(\u001b[0m\u001b[0ms4\u001b[0m\u001b[0;34m)\u001b[0m\u001b[0;34m)\u001b[0m\u001b[0;34m\u001b[0m\u001b[0;34m\u001b[0m\u001b[0m\n\u001b[0m",
      "\u001b[0;31mValueError\u001b[0m: could not convert string to float: '45 76'"
     ]
    }
   ],
   "source": [
    "print(s1, ' -->  ', float(s1))\n",
    "print(s2, ' -->  ', float(s2))\n",
    "print(s3, ' -->  ', float(s3))\n"
   ]
  },
  {
   "cell_type": "code",
   "execution_count": 86,
   "metadata": {},
   "outputs": [
    {
     "ename": "ValueError",
     "evalue": "could not convert string to float: '45 76'",
     "output_type": "error",
     "traceback": [
      "\u001b[0;31m---------------------------------------------------------------------------\u001b[0m",
      "\u001b[0;31mValueError\u001b[0m                                Traceback (most recent call last)",
      "\u001b[0;32m<ipython-input-86-7ec01455fc53>\u001b[0m in \u001b[0;36m<module>\u001b[0;34m\u001b[0m\n\u001b[0;32m----> 1\u001b[0;31m \u001b[0mprint\u001b[0m\u001b[0;34m(\u001b[0m\u001b[0ms4\u001b[0m\u001b[0;34m,\u001b[0m \u001b[0;34m' -->  '\u001b[0m\u001b[0;34m,\u001b[0m \u001b[0mfloat\u001b[0m\u001b[0;34m(\u001b[0m\u001b[0ms4\u001b[0m\u001b[0;34m)\u001b[0m\u001b[0;34m)\u001b[0m\u001b[0;34m\u001b[0m\u001b[0;34m\u001b[0m\u001b[0m\n\u001b[0m",
      "\u001b[0;31mValueError\u001b[0m: could not convert string to float: '45 76'"
     ]
    }
   ],
   "source": [
    "print(s4, ' -->  ', float(s4))"
   ]
  },
  {
   "cell_type": "code",
   "execution_count": 87,
   "metadata": {},
   "outputs": [
    {
     "name": "stdout",
     "output_type": "stream",
     "text": [
      "98.77  -->   98.77\n"
     ]
    }
   ],
   "source": [
    "print(s5, ' -->  ', float(s5))"
   ]
  },
  {
   "cell_type": "code",
   "execution_count": 88,
   "metadata": {},
   "outputs": [
    {
     "ename": "ValueError",
     "evalue": "could not convert string to float: '6798 s'",
     "output_type": "error",
     "traceback": [
      "\u001b[0;31m---------------------------------------------------------------------------\u001b[0m",
      "\u001b[0;31mValueError\u001b[0m                                Traceback (most recent call last)",
      "\u001b[0;32m<ipython-input-88-2783930dbf34>\u001b[0m in \u001b[0;36m<module>\u001b[0;34m\u001b[0m\n\u001b[0;32m----> 1\u001b[0;31m \u001b[0mprint\u001b[0m\u001b[0;34m(\u001b[0m\u001b[0ms6\u001b[0m\u001b[0;34m,\u001b[0m \u001b[0;34m' -->  '\u001b[0m\u001b[0;34m,\u001b[0m \u001b[0mfloat\u001b[0m\u001b[0;34m(\u001b[0m\u001b[0ms6\u001b[0m\u001b[0;34m)\u001b[0m\u001b[0;34m)\u001b[0m\u001b[0;34m\u001b[0m\u001b[0;34m\u001b[0m\u001b[0m\n\u001b[0m",
      "\u001b[0;31mValueError\u001b[0m: could not convert string to float: '6798 s'"
     ]
    }
   ],
   "source": [
    "print(s6, ' -->  ', float(s6))"
   ]
  },
  {
   "cell_type": "code",
   "execution_count": 90,
   "metadata": {},
   "outputs": [
    {
     "data": {
      "text/plain": [
       "(1, 0.0, 'False')"
      ]
     },
     "execution_count": 90,
     "metadata": {},
     "output_type": "execute_result"
    }
   ],
   "source": [
    "int(True) , float(False), str(False)"
   ]
  },
  {
   "cell_type": "markdown",
   "metadata": {},
   "source": [
    "# Operators1"
   ]
  },
  {
   "cell_type": "markdown",
   "metadata": {},
   "source": [
    "# Arithemetic Operators \n",
    "    1.  + - / *\n",
    "    2. % modulus\n",
    "    3. // integer divide\n",
    "    4. ** exponent \n",
    "# Relational Operators\n",
    "    1. == !=\n",
    "    2. > >=\n",
    "    3. < <= \n",
    "    4. in\n",
    "    5. not in\n",
    "# Logical Operators\n",
    "    1. and Logical and\n",
    "    2. or Logical or\n",
    "    3. & elementwise and\n",
    "    4. | elementwise or\n",
    "    5. ~elemnetwise not in pandas dataframe"
   ]
  },
  {
   "cell_type": "markdown",
   "metadata": {},
   "source": [
    "# Data Structures : Sets | Lists | Tuples | Dictionaries"
   ]
  },
  {
   "cell_type": "markdown",
   "metadata": {},
   "source": [
    "# 1. Sets : unordered collections of unique data elements"
   ]
  },
  {
   "cell_type": "code",
   "execution_count": 108,
   "metadata": {},
   "outputs": [],
   "source": [
    "empty_set = set()\n",
    "basket = {'apples', 'milk', 'eggs', 'jam', 'curd', 'coconut', 'cream', 'mayo', 'cheese', \n",
    "          'milk', 'almonds', 'grapes', 'apples','oranges', 'coconut', 'bread', 'butter', 'jam'}\n",
    "mix = {23, 98.66, True, 'string', 23, 87, True}"
   ]
  },
  {
   "cell_type": "code",
   "execution_count": 93,
   "metadata": {},
   "outputs": [
    {
     "name": "stdout",
     "output_type": "stream",
     "text": [
      "Empty Set : set()  length of the set :  0\n"
     ]
    }
   ],
   "source": [
    "print('Empty Set :',empty_set,' length of the set : ',len( empty_set))"
   ]
  },
  {
   "cell_type": "code",
   "execution_count": 95,
   "metadata": {},
   "outputs": [
    {
     "name": "stdout",
     "output_type": "stream",
     "text": [
      "Empty Set :set() length of the set : 0\n",
      "Basket Set :\n",
      "{'grapes', 'coconut', 'milk', 'cream', 'mayo', 'cheese', 'butter', 'eggs', 'jam', 'apples', 'almonds', 'oranges', 'bread', 'curd'}\n",
      "length of the set : 14\n",
      "Mix Set :{True, 98.66, 'string', 23, 87} length of the set : 5\n"
     ]
    }
   ],
   "source": [
    "print('Empty Set :{} length of the set : {}'.format(empty_set, len(empty_set)))\n",
    "print('Basket Set :\\n{}\\nlength of the set : {}'.format( basket, len(basket)))\n",
    "print('Mix Set :{} length of the set : {}'.format( mix, len(mix)))"
   ]
  },
  {
   "cell_type": "code",
   "execution_count": 96,
   "metadata": {},
   "outputs": [
    {
     "name": "stdout",
     "output_type": "stream",
     "text": [
      "I have 100 books\n"
     ]
    }
   ],
   "source": [
    "print('I have',100, 'books')"
   ]
  },
  {
   "cell_type": "code",
   "execution_count": 99,
   "metadata": {},
   "outputs": [
    {
     "data": {
      "text/plain": [
       "'I have 100 books'"
      ]
     },
     "execution_count": 99,
     "metadata": {},
     "output_type": "execute_result"
    }
   ],
   "source": [
    "string = 'I have ' + str(100) +' books'\n",
    "string"
   ]
  },
  {
   "cell_type": "code",
   "execution_count": 103,
   "metadata": {},
   "outputs": [
    {
     "data": {
      "text/plain": [
       "'I have 100 books.They all are GREAT.'"
      ]
     },
     "execution_count": 103,
     "metadata": {},
     "output_type": "execute_result"
    }
   ],
   "source": [
    "'I have {} books.They all are {}.'.format(100,'GREAT')"
   ]
  },
  {
   "cell_type": "code",
   "execution_count": 105,
   "metadata": {},
   "outputs": [
    {
     "data": {
      "text/plain": [
       "'I have GREAT books.They all are 100.'"
      ]
     },
     "execution_count": 105,
     "metadata": {},
     "output_type": "execute_result"
    }
   ],
   "source": [
    "'I have {1} books.They all are {0}.'.format(100,'GREAT')"
   ]
  },
  {
   "cell_type": "code",
   "execution_count": 106,
   "metadata": {},
   "outputs": [
    {
     "data": {
      "text/plain": [
       "'I have GREAT books.They all are GREAT.'"
      ]
     },
     "execution_count": 106,
     "metadata": {},
     "output_type": "execute_result"
    }
   ],
   "source": [
    "'I have {0} books.They all are {0}.'.format('GREAT')"
   ]
  },
  {
   "cell_type": "code",
   "execution_count": 113,
   "metadata": {},
   "outputs": [
    {
     "name": "stdout",
     "output_type": "stream",
     "text": [
      "Before add \n",
      "{'grapes', 'coconut', 'milk', 'cream', 'mayo', 'cheese', 'butter', 'eggs', 'jam', 'apples', 'almonds', 'oranges', 'bread', 'curd'} \n",
      "length of the set 14\n",
      "\n",
      "After add \n",
      "{'grapes', 'coconut', 'milk', 'cream', 'mayo', 'cheese', 'butter', 'eggs', 'jam', 'apples', 'almonds', 'oranges', 'bread', 'curd'} \n",
      "length of the set 14\n",
      "\n"
     ]
    }
   ],
   "source": [
    "# ADD AN ELEMENT \n",
    "print('Before add \\n{} \\nlength of the set {}\\n'.format(basket, len(basket)))\n",
    "basket.add('jam')\n",
    "print('After add \\n{} \\nlength of the set {}\\n'.format(basket, len(basket)))"
   ]
  },
  {
   "cell_type": "code",
   "execution_count": 114,
   "metadata": {},
   "outputs": [
    {
     "name": "stdout",
     "output_type": "stream",
     "text": [
      "Before add \n",
      "{'grapes', 'coconut', 'milk', 'cream', 'mayo', 'cheese', 'butter', 'eggs', 'jam', 'apples', 'almonds', 'oranges', 'bread', 'curd'} \n",
      "length of the set 14\n",
      "\n",
      "After add \n",
      "{'grapes', 'coconut', 'coffee', 'milk', 'cream', 'mayo', 'cheese', 'butter', 'eggs', 'jam', 'apples', 'almonds', 'oranges', 'bread', 'curd'} \n",
      "length of the set 15\n",
      "\n"
     ]
    }
   ],
   "source": [
    "# ADD AN ELEMENT \n",
    "print('Before add \\n{} \\nlength of the set {}\\n'.format(basket, len(basket)))\n",
    "basket.add('coffee')\n",
    "print('After add \\n{} \\nlength of the set {}\\n'.format(basket, len(basket)))"
   ]
  },
  {
   "cell_type": "code",
   "execution_count": 115,
   "metadata": {},
   "outputs": [
    {
     "name": "stdout",
     "output_type": "stream",
     "text": [
      "Before add \n",
      "{'grapes', 'coconut', 'coffee', 'milk', 'cream', 'mayo', 'cheese', 'butter', 'eggs', 'jam', 'apples', 'almonds', 'oranges', 'bread', 'curd'} \n",
      "length of the set 15\n",
      "\n",
      "After add \n",
      "{'grapes', 'coconut', 'milk', 'cream', 'mayo', 'cheese', 'butter', 'eggs', 'jam', 'apples', 'almonds', 'oranges', 'bread', 'curd'} \n",
      "length of the set 14\n",
      "\n"
     ]
    }
   ],
   "source": [
    "# REMOVE AN ELEMENT\n",
    "print('Before remove \\n{} \\nlength of the set {}\\n'.format(basket, len(basket)))\n",
    "basket.remove('coffee')\n",
    "print('After remove \\n{} \\nlength of the set {}\\n'.format(basket, len(basket)))"
   ]
  },
  {
   "cell_type": "code",
   "execution_count": 130,
   "metadata": {},
   "outputs": [
    {
     "name": "stdout",
     "output_type": "stream",
     "text": [
      "Before pop \n",
      "set() \n",
      "length of the set 0\n",
      "\n"
     ]
    },
    {
     "ename": "KeyError",
     "evalue": "'pop from an empty set'",
     "output_type": "error",
     "traceback": [
      "\u001b[0;31m---------------------------------------------------------------------------\u001b[0m",
      "\u001b[0;31mKeyError\u001b[0m                                  Traceback (most recent call last)",
      "\u001b[0;32m<ipython-input-130-77231312807d>\u001b[0m in \u001b[0;36m<module>\u001b[0;34m\u001b[0m\n\u001b[1;32m      1\u001b[0m \u001b[0;31m# POP AN ELEMENT\u001b[0m\u001b[0;34m\u001b[0m\u001b[0;34m\u001b[0m\u001b[0;34m\u001b[0m\u001b[0m\n\u001b[1;32m      2\u001b[0m \u001b[0mprint\u001b[0m\u001b[0;34m(\u001b[0m\u001b[0;34m'Before pop \\n{} \\nlength of the set {}\\n'\u001b[0m\u001b[0;34m.\u001b[0m\u001b[0mformat\u001b[0m\u001b[0;34m(\u001b[0m\u001b[0mbasket\u001b[0m\u001b[0;34m,\u001b[0m \u001b[0mlen\u001b[0m\u001b[0;34m(\u001b[0m\u001b[0mbasket\u001b[0m\u001b[0;34m)\u001b[0m\u001b[0;34m)\u001b[0m\u001b[0;34m)\u001b[0m\u001b[0;34m\u001b[0m\u001b[0;34m\u001b[0m\u001b[0m\n\u001b[0;32m----> 3\u001b[0;31m \u001b[0mprint\u001b[0m\u001b[0;34m(\u001b[0m\u001b[0;34m'Element Popped '\u001b[0m \u001b[0;34m,\u001b[0m \u001b[0mbasket\u001b[0m\u001b[0;34m.\u001b[0m\u001b[0mpop\u001b[0m\u001b[0;34m(\u001b[0m\u001b[0;34m)\u001b[0m\u001b[0;34m,\u001b[0m \u001b[0;34m'\\n'\u001b[0m\u001b[0;34m)\u001b[0m\u001b[0;34m\u001b[0m\u001b[0;34m\u001b[0m\u001b[0m\n\u001b[0m\u001b[1;32m      4\u001b[0m \u001b[0mprint\u001b[0m\u001b[0;34m(\u001b[0m\u001b[0;34m'After pop \\n{} \\nlength of the set {}\\n'\u001b[0m\u001b[0;34m.\u001b[0m\u001b[0mformat\u001b[0m\u001b[0;34m(\u001b[0m\u001b[0mbasket\u001b[0m\u001b[0;34m,\u001b[0m \u001b[0mlen\u001b[0m\u001b[0;34m(\u001b[0m\u001b[0mbasket\u001b[0m\u001b[0;34m)\u001b[0m\u001b[0;34m)\u001b[0m\u001b[0;34m)\u001b[0m\u001b[0;34m\u001b[0m\u001b[0;34m\u001b[0m\u001b[0m\n",
      "\u001b[0;31mKeyError\u001b[0m: 'pop from an empty set'"
     ]
    }
   ],
   "source": [
    "# POP AN ELEMENT\n",
    "print('Before pop \\n{} \\nlength of the set {}\\n'.format(basket, len(basket)))\n",
    "print('Element Popped ' , basket.pop(), '\\n')\n",
    "print('After pop \\n{} \\nlength of the set {}\\n'.format(basket, len(basket)))"
   ]
  },
  {
   "cell_type": "code",
   "execution_count": 20,
   "metadata": {},
   "outputs": [
    {
     "data": {
      "text/plain": [
       "{'almonds',\n",
       " 'apples',\n",
       " 'bread',\n",
       " 'butter',\n",
       " 'cheese',\n",
       " 'coconut',\n",
       " 'cream',\n",
       " 'eggs',\n",
       " 'grapes',\n",
       " 'jam',\n",
       " 'mayo',\n",
       " 'milk',\n",
       " 'oranges'}"
      ]
     },
     "execution_count": 20,
     "metadata": {},
     "output_type": "execute_result"
    }
   ],
   "source": [
    "basket = {'apples', 'milk', 'eggs', 'jam', 'curd', 'coconut', 'cream', 'mayo', 'cheese', \n",
    "          'milk', 'almonds', 'grapes', 'apples','oranges', 'coconut', 'bread', 'butter', 'jam'}\n"
   ]
  },
  {
   "cell_type": "code",
   "execution_count": 132,
   "metadata": {},
   "outputs": [],
   "source": [
    "basket_1 = {'apples', 'milk', 'eggs', 'jam', 'curd', 'coconut', 'cream', 'mayo', 'cheese'}\n",
    "basket_2 = {'milk', 'almonds', 'grapes', 'apples','oranges', 'coconut', 'bread', 'butter', 'jam'}"
   ]
  },
  {
   "cell_type": "markdown",
   "metadata": {},
   "source": [
    "# union : combining elements of the two sets"
   ]
  },
  {
   "cell_type": "code",
   "execution_count": 135,
   "metadata": {},
   "outputs": [
    {
     "name": "stdout",
     "output_type": "stream",
     "text": [
      "Union of basket1 & basket2\n",
      " {'grapes', 'coconut', 'milk', 'cream', 'mayo', 'cheese', 'butter', 'eggs', 'jam', 'apples', 'oranges', 'almonds', 'bread', 'curd'}\n"
     ]
    }
   ],
   "source": [
    "print('Union of basket1 & basket2\\n', basket_1.union(basket_2))"
   ]
  },
  {
   "cell_type": "markdown",
   "metadata": {},
   "source": [
    "# intersection : common elements in the sets"
   ]
  },
  {
   "cell_type": "code",
   "execution_count": 136,
   "metadata": {},
   "outputs": [
    {
     "name": "stdout",
     "output_type": "stream",
     "text": [
      "Intersection of basket1 & basket2\n",
      " {'coconut', 'jam', 'apples', 'milk'}\n"
     ]
    }
   ],
   "source": [
    "print('Intersection of basket1 & basket2\\n', basket_1.intersection(basket_2))"
   ]
  },
  {
   "cell_type": "markdown",
   "metadata": {},
   "source": [
    "# difference : uncommon "
   ]
  },
  {
   "cell_type": "code",
   "execution_count": 137,
   "metadata": {},
   "outputs": [
    {
     "data": {
      "text/plain": [
       "{'cheese', 'cream', 'curd', 'eggs', 'mayo'}"
      ]
     },
     "execution_count": 137,
     "metadata": {},
     "output_type": "execute_result"
    }
   ],
   "source": [
    "basket_1.difference(basket_2)"
   ]
  },
  {
   "cell_type": "code",
   "execution_count": 138,
   "metadata": {},
   "outputs": [
    {
     "data": {
      "text/plain": [
       "{'almonds', 'bread', 'butter', 'grapes', 'oranges'}"
      ]
     },
     "execution_count": 138,
     "metadata": {},
     "output_type": "execute_result"
    }
   ],
   "source": [
    "basket_2.difference(basket_1)"
   ]
  },
  {
   "cell_type": "code",
   "execution_count": 140,
   "metadata": {},
   "outputs": [
    {
     "name": "stdout",
     "output_type": "stream",
     "text": [
      "{'grapes', 'cream', 'mayo', 'butter', 'cheese', 'eggs', 'oranges', 'almonds', 'bread', 'curd'}\n"
     ]
    }
   ],
   "source": [
    "print(basket_1.symmetric_difference(basket_2))"
   ]
  },
  {
   "cell_type": "code",
   "execution_count": 144,
   "metadata": {},
   "outputs": [],
   "source": [
    "basket_1.update(basket_2)"
   ]
  },
  {
   "cell_type": "code",
   "execution_count": 145,
   "metadata": {},
   "outputs": [
    {
     "name": "stdout",
     "output_type": "stream",
     "text": [
      "{'milk', 'butter', 'jam', 'oranges', 'almonds', 'bread', 'curd', 'grapes', 'coconut', 'cream', 'mayo', 'cheese', 'eggs', 'apples'}\n"
     ]
    }
   ],
   "source": [
    "print(basket_1)"
   ]
  },
  {
   "cell_type": "markdown",
   "metadata": {},
   "source": [
    "# 2. List : ordered collection of data "
   ]
  },
  {
   "cell_type": "code",
   "execution_count": 1,
   "metadata": {},
   "outputs": [],
   "source": [
    "empty_list = list() # []\n",
    "basket_list = ['apples', 'milk', 'eggs', 'jam', 'curd', 'coconut', 'cream', 'mayo', 'cheese', 'milk', 'almonds', 'grapes', 'apples','oranges', 'coconut', 'bread', 'butter', 'jam']\n",
    "alist = [1, 'a', 2, 'b', 3, 'c', 4, 'd', 5 , 'e', 6 , 'f']\n",
    "mix_list = [['emma', 23], 45, {'grapes', 'apples', 'oranges', 'apples'}]"
   ]
  },
  {
   "cell_type": "code",
   "execution_count": 2,
   "metadata": {},
   "outputs": [
    {
     "name": "stdout",
     "output_type": "stream",
     "text": [
      "Empty list :[] length of the List : 0\n",
      "Basket List :\n",
      "['apples', 'milk', 'eggs', 'jam', 'curd', 'coconut', 'cream', 'mayo', 'cheese', 'milk', 'almonds', 'grapes', 'apples', 'oranges', 'coconut', 'bread', 'butter', 'jam']\n",
      "length of the List : 18\n",
      "alist List :\n",
      "[1, 'a', 2, 'b', 3, 'c', 4, 'd', 5, 'e', 6, 'f'] \n",
      "length of the List : 12\n",
      "Mix List :\n",
      "[['emma', 23], 45, {'oranges', 'apples', 'grapes'}] \n",
      "length of the List : 3\n"
     ]
    }
   ],
   "source": [
    "print('Empty list :{} length of the List : {}'.format(empty_list, len(empty_list)))\n",
    "print('Basket List :\\n{}\\nlength of the List : {}'.format( basket_list, len(basket_list)))\n",
    "print('alist List :\\n{} \\nlength of the List : {}'.format( alist, len(alist)))\n",
    "print('Mix List :\\n{} \\nlength of the List : {}'.format( mix_list, len(mix_list)))"
   ]
  },
  {
   "cell_type": "markdown",
   "metadata": {},
   "source": [
    "## Indices"
   ]
  },
  {
   "cell_type": "code",
   "execution_count": 4,
   "metadata": {},
   "outputs": [],
   "source": [
    "# indices        0    1    2    3    4    5    6    7    8    9\n",
    "new_list   =   ['a', 'b', 'c', 'd', 'e', 'f', 'g', 'h', 'i', 'j']\n",
    "# -ive indices  -10  -9   -8   -7   -6   -5   -4   -3   -2   -1"
   ]
  },
  {
   "cell_type": "code",
   "execution_count": 5,
   "metadata": {},
   "outputs": [
    {
     "name": "stdout",
     "output_type": "stream",
     "text": [
      "First Element   : a\n",
      "Seccond Element : b\n",
      "Third Element   : c\n"
     ]
    }
   ],
   "source": [
    "print('First Element   :', new_list[0])\n",
    "print('Seccond Element :', new_list[1])\n",
    "print('Third Element   :', new_list[2])"
   ]
  },
  {
   "cell_type": "code",
   "execution_count": 7,
   "metadata": {},
   "outputs": [
    {
     "name": "stdout",
     "output_type": "stream",
     "text": [
      "Last Element        : j\n",
      "Second Last Element : i\n",
      "Third Last Element  : h\n"
     ]
    }
   ],
   "source": [
    "print('Last Element        :', new_list[-1])\n",
    "print('Second Last Element :', new_list[-2])\n",
    "print('Third Last Element  :', new_list[-3])"
   ]
  },
  {
   "cell_type": "markdown",
   "metadata": {},
   "source": [
    "## Slicing "
   ]
  },
  {
   "cell_type": "markdown",
   "metadata": {},
   "source": [
    "## colon operator \n",
    "    - start index : stop index : step \n",
    "    - stop is always excluded"
   ]
  },
  {
   "cell_type": "code",
   "execution_count": null,
   "metadata": {},
   "outputs": [],
   "source": [
    "# indices        0    1    2    3    4    5    6    7    8    9\n",
    "new_list   =   ['a', 'b', 'c', 'd', 'e', 'f', 'g', 'h', 'i', 'j']\n",
    "# -ive indices  -10  -9   -8   -7   -6   -5   -4   -3   -2   -1"
   ]
  },
  {
   "cell_type": "code",
   "execution_count": 8,
   "metadata": {},
   "outputs": [
    {
     "data": {
      "text/plain": [
       "['c', 'd', 'e', 'f']"
      ]
     },
     "execution_count": 8,
     "metadata": {},
     "output_type": "execute_result"
    }
   ],
   "source": [
    "new_list[2 : 6]"
   ]
  },
  {
   "cell_type": "markdown",
   "metadata": {},
   "source": [
    "## if start is not mentioned default is = 0\n",
    "## if stop is not mentioned default is = len(list)"
   ]
  },
  {
   "cell_type": "code",
   "execution_count": 10,
   "metadata": {},
   "outputs": [
    {
     "data": {
      "text/plain": [
       "['a', 'b', 'c', 'd', 'e', 'f', 'g', 'h', 'i', 'j']"
      ]
     },
     "execution_count": 10,
     "metadata": {},
     "output_type": "execute_result"
    }
   ],
   "source": [
    "new_list[:]"
   ]
  },
  {
   "cell_type": "code",
   "execution_count": 11,
   "metadata": {},
   "outputs": [
    {
     "data": {
      "text/plain": [
       "['d', 'e', 'f', 'g', 'h', 'i', 'j']"
      ]
     },
     "execution_count": 11,
     "metadata": {},
     "output_type": "execute_result"
    }
   ],
   "source": [
    "new_list[3 : ]"
   ]
  },
  {
   "cell_type": "code",
   "execution_count": 12,
   "metadata": {},
   "outputs": [
    {
     "data": {
      "text/plain": [
       "['a', 'b', 'c', 'd', 'e', 'f', 'g', 'h']"
      ]
     },
     "execution_count": 12,
     "metadata": {},
     "output_type": "execute_result"
    }
   ],
   "source": [
    "new_list[ : 8]"
   ]
  },
  {
   "cell_type": "code",
   "execution_count": 15,
   "metadata": {},
   "outputs": [
    {
     "data": {
      "text/plain": [
       "['a', 'b', 'c', 'd', 'e', 'f', 'g', 'h', 'i', 'j']"
      ]
     },
     "execution_count": 15,
     "metadata": {},
     "output_type": "execute_result"
    }
   ],
   "source": [
    "new_list[ : ]"
   ]
  },
  {
   "cell_type": "markdown",
   "metadata": {},
   "source": [
    "## step \n"
   ]
  },
  {
   "cell_type": "code",
   "execution_count": 22,
   "metadata": {},
   "outputs": [],
   "source": [
    "# indices        0    1    2    3    4    5    6    7    8    9\n",
    "new_list   =   ['a', 'b', 'c', 'd', 'e', 'f', 'g', 'h', 'i', 'j']\n",
    "# -ive indices  -10  -9   -8   -7   -6   -5   -4   -3   -2   -1"
   ]
  },
  {
   "cell_type": "code",
   "execution_count": 29,
   "metadata": {},
   "outputs": [
    {
     "data": {
      "text/plain": [
       "['a', 'c', 'e', 'g', 'i']"
      ]
     },
     "execution_count": 29,
     "metadata": {},
     "output_type": "execute_result"
    }
   ],
   "source": [
    "new_list[ 0: 9 : 2 ]\n",
    "# 0 ,\n",
    "# 0 + 2 = 2,\n",
    "# 2 + 2 = 4\n",
    "# 4 + 2 = 6\n",
    "# 6 + 2 = 8\n"
   ]
  },
  {
   "cell_type": "raw",
   "metadata": {},
   "source": [
    "first element = newlist[start]\n",
    "second element = newlist[start + step] # second = start +step\n",
    "third element = newlist[seccond + step ]\n"
   ]
  },
  {
   "cell_type": "code",
   "execution_count": 33,
   "metadata": {},
   "outputs": [
    {
     "data": {
      "text/plain": [
       "['a', 'c', 'e', 'g', 'i']"
      ]
     },
     "execution_count": 33,
     "metadata": {},
     "output_type": "execute_result"
    }
   ],
   "source": [
    "new_list[ : : 2]"
   ]
  },
  {
   "cell_type": "code",
   "execution_count": 34,
   "metadata": {},
   "outputs": [
    {
     "data": {
      "text/plain": [
       "['j', 'i', 'h', 'g', 'f', 'e', 'd', 'c', 'b', 'a']"
      ]
     },
     "execution_count": 34,
     "metadata": {},
     "output_type": "execute_result"
    }
   ],
   "source": [
    "new_list[ : : -1]"
   ]
  },
  {
   "cell_type": "markdown",
   "metadata": {},
   "source": [
    "### if step is positive +1, +2...\n",
    "    - start index should be on the left of stop index \n",
    "    - start < stop "
   ]
  },
  {
   "cell_type": "code",
   "execution_count": null,
   "metadata": {},
   "outputs": [],
   "source": [
    "# indices        0    1    2    3    4    5    6    7    8    9\n",
    "new_list   =   ['a', 'b', 'c', 'd', 'e', 'f', 'g', 'h', 'i', 'j']\n",
    "# -ive indices  -10  -9   -8   -7   -6   -5   -4   -3   -2   -1"
   ]
  },
  {
   "cell_type": "code",
   "execution_count": 21,
   "metadata": {},
   "outputs": [
    {
     "data": {
      "text/plain": [
       "['c', 'f', 'i']"
      ]
     },
     "execution_count": 21,
     "metadata": {},
     "output_type": "execute_result"
    }
   ],
   "source": [
    "new_list[2 : 9 : +3]"
   ]
  },
  {
   "cell_type": "code",
   "execution_count": 22,
   "metadata": {},
   "outputs": [
    {
     "data": {
      "text/plain": [
       "['b', 'e', 'h']"
      ]
     },
     "execution_count": 22,
     "metadata": {},
     "output_type": "execute_result"
    }
   ],
   "source": [
    "new_list[-9 :-2 : +3]"
   ]
  },
  {
   "cell_type": "markdown",
   "metadata": {},
   "source": [
    "### if step is negative -1, -2...\n",
    "    - start index should be on the right of stop index \n",
    "    - start > stop "
   ]
  },
  {
   "cell_type": "code",
   "execution_count": 24,
   "metadata": {},
   "outputs": [
    {
     "data": {
      "text/plain": [
       "['j', 'g', 'd']"
      ]
     },
     "execution_count": 24,
     "metadata": {},
     "output_type": "execute_result"
    }
   ],
   "source": [
    "new_list[9 : 2 : -3]"
   ]
  },
  {
   "cell_type": "code",
   "execution_count": 25,
   "metadata": {},
   "outputs": [
    {
     "data": {
      "text/plain": [
       "['i', 'f', 'c']"
      ]
     },
     "execution_count": 25,
     "metadata": {},
     "output_type": "execute_result"
    }
   ],
   "source": [
    "new_list[-2 : -9 : -3]"
   ]
  },
  {
   "cell_type": "code",
   "execution_count": 26,
   "metadata": {},
   "outputs": [
    {
     "data": {
      "text/plain": [
       "[]"
      ]
     },
     "execution_count": 26,
     "metadata": {},
     "output_type": "execute_result"
    }
   ],
   "source": [
    "new_list[2:9:-1]"
   ]
  },
  {
   "cell_type": "markdown",
   "metadata": {},
   "source": [
    "## associate functions for a list "
   ]
  },
  {
   "cell_type": "code",
   "execution_count": 27,
   "metadata": {},
   "outputs": [
    {
     "name": "stdout",
     "output_type": "stream",
     "text": [
      "['__add__', '__class__', '__contains__', '__delattr__', '__delitem__', '__dir__', '__doc__', '__eq__', '__format__', '__ge__', '__getattribute__', '__getitem__', '__gt__', '__hash__', '__iadd__', '__imul__', '__init__', '__init_subclass__', '__iter__', '__le__', '__len__', '__lt__', '__mul__', '__ne__', '__new__', '__reduce__', '__reduce_ex__', '__repr__', '__reversed__', '__rmul__', '__setattr__', '__setitem__', '__sizeof__', '__str__', '__subclasshook__', 'append', 'clear', 'copy', 'count', 'extend', 'index', 'insert', 'pop', 'remove', 'reverse', 'sort']\n"
     ]
    }
   ],
   "source": [
    "print(dir(basket_list))"
   ]
  },
  {
   "cell_type": "code",
   "execution_count": null,
   "metadata": {},
   "outputs": [],
   "source": [
    "basket_list."
   ]
  },
  {
   "cell_type": "markdown",
   "metadata": {},
   "source": [
    "## adding elements\n",
    "    1. append : adds one element at the end of the list \n",
    "    2. extend : adds multiple elements at the end of the list\n",
    "    3. insert : adds one element at a given position  "
   ]
  },
  {
   "cell_type": "code",
   "execution_count": 36,
   "metadata": {},
   "outputs": [
    {
     "name": "stdout",
     "output_type": "stream",
     "text": [
      "Before append \n",
      "[]\n",
      "After append \n",
      "[7]\n"
     ]
    }
   ],
   "source": [
    "alist=[]\n",
    "print('Before append \\n{}'.format(alist))\n",
    "alist.append(7)\n",
    "print('After append \\n{}'.format(alist))"
   ]
  },
  {
   "cell_type": "code",
   "execution_count": 38,
   "metadata": {
    "tags": []
   },
   "outputs": [
    {
     "name": "stdout",
     "output_type": "stream",
     "text": [
      "Before append \n",
      "[7, [7, 'g']]\n",
      "After append \n",
      "[7, [7, 'g'], [7, 'g']]\n"
     ]
    }
   ],
   "source": [
    "print('Before append \\n{}'.format(alist))\n",
    "alist.append([7,'g'])\n",
    "print('After append \\n{}'.format(alist))"
   ]
  },
  {
   "cell_type": "code",
   "execution_count": 39,
   "metadata": {},
   "outputs": [
    {
     "name": "stdout",
     "output_type": "stream",
     "text": [
      "Before extend \n",
      "[7, [7, 'g'], [7, 'g']]\n",
      "After extend \n",
      "[7, [7, 'g'], [7, 'g'], 7, 'g']\n"
     ]
    }
   ],
   "source": [
    "print('Before extend \\n{}'.format(alist))\n",
    "alist.extend([7,'g'])\n",
    "print('After extend \\n{}'.format(alist))"
   ]
  },
  {
   "cell_type": "code",
   "execution_count": 41,
   "metadata": {},
   "outputs": [
    {
     "name": "stdout",
     "output_type": "stream",
     "text": [
      "Before insert \n",
      "[7, [7, 'g'], [7, 'g'], 'insert', 7, 'g']\n",
      "After insert \n",
      "[7, [7, 'g'], [7, 'g'], 'insert', 'insert', 7, 'g']\n"
     ]
    }
   ],
   "source": [
    "print('Before insert \\n{}'.format(alist))\n",
    "alist.insert(3, 'insert')\n",
    "print('After insert \\n{}'.format(alist))"
   ]
  },
  {
   "cell_type": "markdown",
   "metadata": {},
   "source": [
    "## Removing elements\n",
    "    4. remove : removes the first occurence of the given element\n",
    "    5. pop    : pops out the element at particular position"
   ]
  },
  {
   "cell_type": "code",
   "execution_count": 43,
   "metadata": {},
   "outputs": [
    {
     "name": "stdout",
     "output_type": "stream",
     "text": [
      "['apples', 'milk', 'eggs', 'jam', 'curd', 'coconut', 'cream', 'mayo', 'cheese', 'milk', 'almonds', 'grapes', 'apples', 'oranges', 'coconut', 'bread', 'butter', 'jam']\n"
     ]
    }
   ],
   "source": [
    "basket_list = ['apples', 'milk', 'eggs', 'jam', 'curd', 'coconut', 'cream', 'mayo', 'cheese', 'milk', 'almonds', 'grapes', 'apples','oranges', 'coconut', 'bread', 'butter', 'jam']\n",
    "print(basket_list)"
   ]
  },
  {
   "cell_type": "code",
   "execution_count": 44,
   "metadata": {
    "jupyter": {
     "source_hidden": true
    },
    "tags": []
   },
   "outputs": [
    {
     "name": "stdout",
     "output_type": "stream",
     "text": [
      "Before remove jam :\n",
      "['apples', 'milk', 'eggs', 'jam', 'curd', 'coconut', 'cream', 'mayo', 'cheese', 'milk', 'almonds', 'grapes', 'apples', 'oranges', 'coconut', 'bread', 'butter', 'jam']\n",
      "After remove jam  :\n",
      "['apples', 'milk', 'eggs', 'curd', 'coconut', 'cream', 'mayo', 'cheese', 'milk', 'almonds', 'grapes', 'apples', 'oranges', 'coconut', 'bread', 'butter', 'jam']\n"
     ]
    }
   ],
   "source": [
    "print('Before remove jam :\\n{}'.format(basket_list))\n",
    "basket_list.remove('jam')\n",
    "print('After remove jam  :\\n{}'.format(basket_list))"
   ]
  },
  {
   "cell_type": "code",
   "execution_count": 45,
   "metadata": {},
   "outputs": [
    {
     "name": "stdout",
     "output_type": "stream",
     "text": [
      "Before remove jam :\n",
      "['apples', 'milk', 'eggs', 'curd', 'coconut', 'cream', 'mayo', 'cheese', 'milk', 'almonds', 'grapes', 'apples', 'oranges', 'coconut', 'bread', 'butter', 'jam']\n",
      "After remove jam  :\n",
      "['apples', 'milk', 'eggs', 'curd', 'coconut', 'cream', 'mayo', 'cheese', 'milk', 'almonds', 'grapes', 'apples', 'oranges', 'coconut', 'bread', 'butter']\n"
     ]
    }
   ],
   "source": [
    "print('Before remove jam :\\n{}'.format(basket_list))\n",
    "basket_list.remove('jam')\n",
    "print('After remove jam  :\\n{}'.format(basket_list))"
   ]
  },
  {
   "cell_type": "markdown",
   "metadata": {},
   "source": [
    "### how to check the no. occurrence of any given element ?\n",
    "    6. count : counts the no.of occurences"
   ]
  },
  {
   "cell_type": "code",
   "execution_count": 36,
   "metadata": {},
   "outputs": [
    {
     "name": "stdout",
     "output_type": "stream",
     "text": [
      "['apples', 'milk', 'eggs', 'jam', 'curd', 'coconut', 'cream', 'mayo', 'cheese', 'milk', 'almonds', 'grapes', 'apples', 'oranges', 'coconut', 'bread', 'butter', 'jam']\n"
     ]
    }
   ],
   "source": [
    "basket_list = ['apples', 'milk', 'eggs', 'jam', 'curd', 'coconut', 'cream', 'mayo', 'cheese', 'milk', 'almonds', 'grapes', 'apples','oranges', 'coconut', 'bread', 'butter', 'jam']\n",
    "print(basket_list)"
   ]
  },
  {
   "cell_type": "code",
   "execution_count": 37,
   "metadata": {},
   "outputs": [
    {
     "data": {
      "text/plain": [
       "2"
      ]
     },
     "execution_count": 37,
     "metadata": {},
     "output_type": "execute_result"
    }
   ],
   "source": [
    "basket_list.count('jam')"
   ]
  },
  {
   "cell_type": "code",
   "execution_count": null,
   "metadata": {},
   "outputs": [],
   "source": [
    "# execute twice \n",
    "print('Before remove jam :\\n{}'.format(basket_list))\n",
    "basket_list.remove('jam')\n",
    "print('After remove jam  :\\n{}'.format(basket_list))"
   ]
  },
  {
   "cell_type": "code",
   "execution_count": 40,
   "metadata": {},
   "outputs": [
    {
     "data": {
      "text/plain": [
       "0"
      ]
     },
     "execution_count": 40,
     "metadata": {},
     "output_type": "execute_result"
    }
   ],
   "source": [
    "basket_list.count('jam')"
   ]
  },
  {
   "cell_type": "code",
   "execution_count": 41,
   "metadata": {},
   "outputs": [
    {
     "name": "stdout",
     "output_type": "stream",
     "text": [
      "['apples', 'milk', 'eggs', 'jam', 'curd', 'coconut', 'cream', 'mayo', 'cheese', 'milk', 'almonds', 'grapes', 'apples', 'oranges', 'coconut', 'bread', 'butter', 'jam']\n"
     ]
    }
   ],
   "source": [
    "basket_list = ['apples', 'milk', 'eggs', 'jam', 'curd', 'coconut', 'cream', 'mayo', 'cheese', 'milk', 'almonds', 'grapes', 'apples','oranges', 'coconut', 'bread', 'butter', 'jam']\n",
    "print(basket_list)"
   ]
  },
  {
   "cell_type": "code",
   "execution_count": 42,
   "metadata": {},
   "outputs": [
    {
     "name": "stdout",
     "output_type": "stream",
     "text": [
      "Before pop pos = 4 :\n",
      "['apples', 'milk', 'eggs', 'jam', 'curd', 'coconut', 'cream', 'mayo', 'cheese', 'milk', 'almonds', 'grapes', 'apples', 'oranges', 'coconut', 'bread', 'butter', 'jam']\n",
      "\n",
      "Element popped : curd\n",
      "\n",
      "After  pop pos = 4  :\n",
      "['apples', 'milk', 'eggs', 'jam', 'coconut', 'cream', 'mayo', 'cheese', 'milk', 'almonds', 'grapes', 'apples', 'oranges', 'coconut', 'bread', 'butter', 'jam']\n"
     ]
    }
   ],
   "source": [
    "print('Before pop pos = 4 :\\n{}'.format(basket_list))\n",
    "print('\\nElement popped : {}'.format(basket_list.pop(4)))\n",
    "print('\\nAfter  pop pos = 4  :\\n{}'.format(basket_list))"
   ]
  },
  {
   "cell_type": "markdown",
   "metadata": {},
   "source": [
    "## how to find out the location of an element \n",
    "    7. index : gives the index for the first occurence"
   ]
  },
  {
   "cell_type": "code",
   "execution_count": 46,
   "metadata": {},
   "outputs": [
    {
     "data": {
      "text/plain": [
       "4"
      ]
     },
     "execution_count": 46,
     "metadata": {},
     "output_type": "execute_result"
    }
   ],
   "source": [
    "basket_list.index('coconut') # first occurence"
   ]
  },
  {
   "cell_type": "markdown",
   "metadata": {},
   "source": [
    "### index allows to look for an element in a slice but returns the actual position"
   ]
  },
  {
   "cell_type": "code",
   "execution_count": 47,
   "metadata": {},
   "outputs": [
    {
     "data": {
      "text/plain": [
       "13"
      ]
     },
     "execution_count": 47,
     "metadata": {},
     "output_type": "execute_result"
    }
   ],
   "source": [
    "basket_list.index('coconut', 6) # true position of first occurence the element if occuring after the 6th index"
   ]
  },
  {
   "cell_type": "code",
   "execution_count": 59,
   "metadata": {},
   "outputs": [],
   "source": [
    "example_list = [23, 47, 21, 32, 23, 32, 67, 21, 67, 89, 90, 47, 23, 67, 54, 23]"
   ]
  },
  {
   "cell_type": "code",
   "execution_count": 53,
   "metadata": {},
   "outputs": [
    {
     "data": {
      "text/plain": [
       "4"
      ]
     },
     "execution_count": 53,
     "metadata": {},
     "output_type": "execute_result"
    }
   ],
   "source": [
    "example_list.count(23)"
   ]
  },
  {
   "cell_type": "code",
   "execution_count": 54,
   "metadata": {},
   "outputs": [
    {
     "data": {
      "text/plain": [
       "0"
      ]
     },
     "execution_count": 54,
     "metadata": {},
     "output_type": "execute_result"
    }
   ],
   "source": [
    "example_list.index(23) # very first occurence"
   ]
  },
  {
   "cell_type": "code",
   "execution_count": 55,
   "metadata": {},
   "outputs": [
    {
     "data": {
      "text/plain": [
       "12"
      ]
     },
     "execution_count": 55,
     "metadata": {},
     "output_type": "execute_result"
    }
   ],
   "source": [
    "# what is the location of first occurence of a score = 23 after the 5th position ??\n",
    "example_list.index(23, 5) "
   ]
  },
  {
   "cell_type": "code",
   "execution_count": 63,
   "metadata": {},
   "outputs": [
    {
     "data": {
      "text/plain": [
       "12"
      ]
     },
     "execution_count": 63,
     "metadata": {},
     "output_type": "execute_result"
    }
   ],
   "source": [
    "# what is the location of first occurence of a score = 23 between the 5th position and 8th position ??\n",
    "example_list.index(23,5,15) \n",
    "# will look for 23 in example_list[5:8]"
   ]
  },
  {
   "cell_type": "code",
   "execution_count": 64,
   "metadata": {},
   "outputs": [
    {
     "ename": "ValueError",
     "evalue": "23 is not in list",
     "output_type": "error",
     "traceback": [
      "\u001b[1;31m---------------------------------------------------------------------------\u001b[0m",
      "\u001b[1;31mValueError\u001b[0m                                Traceback (most recent call last)",
      "\u001b[1;32m<ipython-input-64-9274494ce03d>\u001b[0m in \u001b[0;36m<module>\u001b[1;34m\u001b[0m\n\u001b[1;32m----> 1\u001b[1;33m \u001b[0mexample_list\u001b[0m\u001b[1;33m.\u001b[0m\u001b[0mindex\u001b[0m\u001b[1;33m(\u001b[0m\u001b[1;36m23\u001b[0m\u001b[1;33m,\u001b[0m \u001b[1;36m5\u001b[0m\u001b[1;33m,\u001b[0m \u001b[1;36m12\u001b[0m\u001b[1;33m)\u001b[0m\u001b[1;33m\u001b[0m\u001b[1;33m\u001b[0m\u001b[0m\n\u001b[0m",
      "\u001b[1;31mValueError\u001b[0m: 23 is not in list"
     ]
    }
   ],
   "source": [
    "example_list.index(23, 5, 12) "
   ]
  },
  {
   "cell_type": "markdown",
   "metadata": {},
   "source": [
    "    8. reverse : reverses the list"
   ]
  },
  {
   "cell_type": "code",
   "execution_count": 65,
   "metadata": {},
   "outputs": [
    {
     "name": "stdout",
     "output_type": "stream",
     "text": [
      "Before reverse :[7, [7, 'g'], [7, 'g'], 'insert', 'insert', 'insert', 7, 'g']\n",
      "After reverse  :['g', 7, 'insert', 'insert', 'insert', [7, 'g'], [7, 'g'], 7]\n"
     ]
    }
   ],
   "source": [
    "print('Before reverse :{}'.format(alist))\n",
    "alist.reverse()\n",
    "print('After reverse  :{}'.format(alist))"
   ]
  },
  {
   "cell_type": "markdown",
   "metadata": {},
   "source": [
    "    9. sort : sorts the list in ascending or descending order\n",
    "            - the list should homogenous and consists of either numbers or characters\n",
    "    "
   ]
  },
  {
   "cell_type": "code",
   "execution_count": 53,
   "metadata": {},
   "outputs": [
    {
     "name": "stdout",
     "output_type": "stream",
     "text": [
      "['apples', 'milk', 'eggs', 'jam', 'curd', 'coconut', 'cream', 'mayo', 'cheese', 'milk', 'almonds', 'grapes', 'apples', 'oranges', 'coconut', 'bread', 'butter', 'jam']\n"
     ]
    }
   ],
   "source": [
    "basket_list = ['apples', 'milk', 'eggs', 'jam', 'curd', 'coconut', 'cream', 'mayo', 'cheese', 'milk', 'almonds', 'grapes', 'apples','oranges', 'coconut', 'bread', 'butter', 'jam']\n",
    "print(basket_list)"
   ]
  },
  {
   "cell_type": "code",
   "execution_count": 66,
   "metadata": {},
   "outputs": [
    {
     "name": "stdout",
     "output_type": "stream",
     "text": [
      "Before basket_list :\n",
      "['apples', 'milk', 'eggs', 'curd', 'coconut', 'cream', 'mayo', 'cheese', 'milk', 'almonds', 'grapes', 'apples', 'oranges', 'coconut', 'bread', 'butter']\n",
      "After basket_list  :\n",
      "['almonds', 'apples', 'apples', 'bread', 'butter', 'cheese', 'coconut', 'coconut', 'cream', 'curd', 'eggs', 'grapes', 'mayo', 'milk', 'milk', 'oranges']\n"
     ]
    }
   ],
   "source": [
    "print('Before basket_list :\\n{}'.format(basket_list))\n",
    "basket_list.sort()\n",
    "print('After basket_list  :\\n{}'.format(basket_list))"
   ]
  },
  {
   "cell_type": "code",
   "execution_count": 55,
   "metadata": {},
   "outputs": [
    {
     "name": "stdout",
     "output_type": "stream",
     "text": [
      "['apples', 'milk', 'eggs', 'jam', 'curd', 'coconut', 'cream', 'mayo', 'cheese', 'milk', 'almonds', 'grapes', 'apples', 'oranges', 'coconut', 'bread', 'butter', 'jam']\n"
     ]
    }
   ],
   "source": [
    "basket_list = ['apples', 'milk', 'eggs', 'jam', 'curd', 'coconut', 'cream', 'mayo', 'cheese', 'milk', 'almonds', 'grapes', 'apples','oranges', 'coconut', 'bread', 'butter', 'jam']\n",
    "print(basket_list)"
   ]
  },
  {
   "cell_type": "code",
   "execution_count": 56,
   "metadata": {},
   "outputs": [
    {
     "name": "stdout",
     "output_type": "stream",
     "text": [
      "Before basket_list :\n",
      "['apples', 'milk', 'eggs', 'jam', 'curd', 'coconut', 'cream', 'mayo', 'cheese', 'milk', 'almonds', 'grapes', 'apples', 'oranges', 'coconut', 'bread', 'butter', 'jam']\n",
      "After basket_list  :\n",
      "['oranges', 'milk', 'milk', 'mayo', 'jam', 'jam', 'grapes', 'eggs', 'curd', 'cream', 'coconut', 'coconut', 'cheese', 'butter', 'bread', 'apples', 'apples', 'almonds']\n"
     ]
    }
   ],
   "source": [
    "print('Before basket_list :\\n{}'.format(basket_list))\n",
    "basket_list.sort(reverse = True)\n",
    "print('After basket_list  :\\n{}'.format(basket_list))"
   ]
  },
  {
   "cell_type": "code",
   "execution_count": 67,
   "metadata": {},
   "outputs": [
    {
     "name": "stdout",
     "output_type": "stream",
     "text": [
      "Before sort :\n",
      "[34, 54.88, 12, True, False, False, -45, -90.11]\n",
      "After sort  :\n",
      "[-90.11, -45, False, False, True, 12, 34, 54.88]\n"
     ]
    }
   ],
   "source": [
    "l1 = [34, 54.88, 12, True, False, False, -45, -90.11]\n",
    "print('Before sort :\\n{}'.format(l1))\n",
    "l1.sort()\n",
    "print('After sort  :\\n{}'.format(l1))"
   ]
  },
  {
   "cell_type": "code",
   "execution_count": 68,
   "metadata": {},
   "outputs": [],
   "source": [
    "l2 = ['apples', 'oranges', 'grapes', 10, 20, 30]"
   ]
  },
  {
   "cell_type": "code",
   "execution_count": 71,
   "metadata": {},
   "outputs": [],
   "source": [
    "l2_copy = l2"
   ]
  },
  {
   "cell_type": "code",
   "execution_count": 69,
   "metadata": {},
   "outputs": [
    {
     "name": "stdout",
     "output_type": "stream",
     "text": [
      "['apples', 'oranges', 'grapes', 10, 20, 30]\n"
     ]
    }
   ],
   "source": [
    "print(l2)"
   ]
  },
  {
   "cell_type": "code",
   "execution_count": 72,
   "metadata": {},
   "outputs": [
    {
     "name": "stdout",
     "output_type": "stream",
     "text": [
      "['apples', 'oranges', 'grapes', 10, 20, 30]\n"
     ]
    }
   ],
   "source": [
    "print(l2_copy)"
   ]
  },
  {
   "cell_type": "code",
   "execution_count": 73,
   "metadata": {},
   "outputs": [],
   "source": [
    "l2_copy[2] = 'pear'"
   ]
  },
  {
   "cell_type": "code",
   "execution_count": 74,
   "metadata": {},
   "outputs": [
    {
     "name": "stdout",
     "output_type": "stream",
     "text": [
      "['apples', 'oranges', 'pear', 10, 20, 30]\n"
     ]
    }
   ],
   "source": [
    "print(l2_copy)"
   ]
  },
  {
   "cell_type": "code",
   "execution_count": 75,
   "metadata": {},
   "outputs": [
    {
     "name": "stdout",
     "output_type": "stream",
     "text": [
      "['apples', 'oranges', 'pear', 10, 20, 30]\n"
     ]
    }
   ],
   "source": [
    "print(l2)"
   ]
  },
  {
   "cell_type": "code",
   "execution_count": 68,
   "metadata": {},
   "outputs": [],
   "source": [
    "# = it shallow copy : copies the minimum"
   ]
  },
  {
   "cell_type": "code",
   "execution_count": 69,
   "metadata": {},
   "outputs": [],
   "source": [
    "l2_dp_cpy = l2.copy()"
   ]
  },
  {
   "cell_type": "code",
   "execution_count": 71,
   "metadata": {},
   "outputs": [],
   "source": [
    "l2_dp_cpy[2] = 'grapes'"
   ]
  },
  {
   "cell_type": "code",
   "execution_count": 72,
   "metadata": {},
   "outputs": [
    {
     "data": {
      "text/plain": [
       "['apples', 'oranges', 'grapes', 10, 20, 30]"
      ]
     },
     "execution_count": 72,
     "metadata": {},
     "output_type": "execute_result"
    }
   ],
   "source": [
    "l2_dp_cpy"
   ]
  },
  {
   "cell_type": "code",
   "execution_count": 79,
   "metadata": {},
   "outputs": [],
   "source": [
    "l4=l2[:]"
   ]
  },
  {
   "cell_type": "code",
   "execution_count": 73,
   "metadata": {},
   "outputs": [
    {
     "data": {
      "text/plain": [
       "['apples', 'oranges', 'pear', 10, 20, 30]"
      ]
     },
     "execution_count": 73,
     "metadata": {},
     "output_type": "execute_result"
    }
   ],
   "source": [
    "l2"
   ]
  },
  {
   "cell_type": "code",
   "execution_count": 81,
   "metadata": {},
   "outputs": [
    {
     "data": {
      "text/plain": [
       "2288596601792"
      ]
     },
     "execution_count": 81,
     "metadata": {},
     "output_type": "execute_result"
    }
   ],
   "source": [
    "id(l2)"
   ]
  },
  {
   "cell_type": "code",
   "execution_count": 84,
   "metadata": {},
   "outputs": [
    {
     "data": {
      "text/plain": [
       "2288598415808"
      ]
     },
     "execution_count": 84,
     "metadata": {},
     "output_type": "execute_result"
    }
   ],
   "source": [
    "id(l4)"
   ]
  },
  {
   "cell_type": "code",
   "execution_count": 77,
   "metadata": {},
   "outputs": [
    {
     "data": {
      "text/plain": [
       "2288596601792"
      ]
     },
     "execution_count": 77,
     "metadata": {},
     "output_type": "execute_result"
    }
   ],
   "source": [
    "id(l2_copy)"
   ]
  },
  {
   "cell_type": "code",
   "execution_count": 78,
   "metadata": {},
   "outputs": [
    {
     "ename": "NameError",
     "evalue": "name 'l2_dp_cpy' is not defined",
     "output_type": "error",
     "traceback": [
      "\u001b[1;31m---------------------------------------------------------------------------\u001b[0m",
      "\u001b[1;31mNameError\u001b[0m                                 Traceback (most recent call last)",
      "\u001b[1;32m<ipython-input-78-c03d89d5335f>\u001b[0m in \u001b[0;36m<module>\u001b[1;34m\u001b[0m\n\u001b[1;32m----> 1\u001b[1;33m \u001b[0mid\u001b[0m\u001b[1;33m(\u001b[0m\u001b[0ml2_dp_cpy\u001b[0m\u001b[1;33m)\u001b[0m\u001b[1;33m\u001b[0m\u001b[1;33m\u001b[0m\u001b[0m\n\u001b[0m",
      "\u001b[1;31mNameError\u001b[0m: name 'l2_dp_cpy' is not defined"
     ]
    }
   ],
   "source": [
    "id(l2_dp_cpy)"
   ]
  },
  {
   "cell_type": "code",
   "execution_count": 77,
   "metadata": {},
   "outputs": [],
   "source": [
    "l3 = l2_copy"
   ]
  },
  {
   "cell_type": "code",
   "execution_count": 78,
   "metadata": {},
   "outputs": [
    {
     "data": {
      "text/plain": [
       "140420647651200"
      ]
     },
     "execution_count": 78,
     "metadata": {},
     "output_type": "execute_result"
    }
   ],
   "source": [
    "id(l3)"
   ]
  },
  {
   "cell_type": "markdown",
   "metadata": {},
   "source": [
    "### use of arithmetic operators"
   ]
  },
  {
   "cell_type": "code",
   "execution_count": 82,
   "metadata": {},
   "outputs": [
    {
     "data": {
      "text/plain": [
       "[23, 56, 87, 'a', 'b', 'c']"
      ]
     },
     "execution_count": 82,
     "metadata": {},
     "output_type": "execute_result"
    }
   ],
   "source": [
    "l1 = [23,56, 87]\n",
    "l2 = ['a', 'b', 'c']\n",
    "new = l1+l2 # concattenation\n",
    "new"
   ]
  },
  {
   "cell_type": "code",
   "execution_count": 84,
   "metadata": {},
   "outputs": [
    {
     "data": {
      "text/plain": [
       "['a', 'b', 'c', 'a', 'b', 'c', 'a', 'b', 'c']"
      ]
     },
     "execution_count": 84,
     "metadata": {},
     "output_type": "execute_result"
    }
   ],
   "source": [
    "l2 * 3 # repetition "
   ]
  },
  {
   "cell_type": "markdown",
   "metadata": {},
   "source": [
    "# 3. Tuples : ordered immutable collection of data "
   ]
  },
  {
   "cell_type": "markdown",
   "metadata": {},
   "source": [
    "### multiple assignments"
   ]
  },
  {
   "cell_type": "code",
   "execution_count": 85,
   "metadata": {},
   "outputs": [],
   "source": [
    "a,b,c,d,e = 23, 45, 65, 87, 'string'"
   ]
  },
  {
   "cell_type": "code",
   "execution_count": 86,
   "metadata": {},
   "outputs": [],
   "source": [
    "a,b,c,d,e = (23, 45, 65, 87, 'string')"
   ]
  },
  {
   "cell_type": "code",
   "execution_count": 88,
   "metadata": {},
   "outputs": [],
   "source": [
    "empty_tup = () # tuple()\n",
    "tup_1 = (2)\n",
    "tup_11 = (23,)\n",
    "basket_tup = ('oranges', 'milk', 'milk', 'mayo', 'jam', 'jam', 'grapes', 'eggs', 'curd', 'cream', 'coconut', 'coconut', 'cheese', 'butter', 'bread', 'apples', 'apples', 'almonds')\n",
    "mix_tup = (['emma', 23], 45, {'oranges', 'apples', 'grapes'},(34,67))"
   ]
  },
  {
   "cell_type": "code",
   "execution_count": 89,
   "metadata": {},
   "outputs": [
    {
     "name": "stdout",
     "output_type": "stream",
     "text": [
      "Empty tup :() class of the tup : <class 'tuple'>\n",
      "tup_1 tup :\n",
      "2\n",
      "class of the tup : <class 'int'>\n",
      "tup_11 tup :\n",
      "(23,) \n",
      "class of the tup : <class 'tuple'>\n",
      "Mix tup :\n",
      "(['emma', 23], 45, {'apples', 'grapes', 'oranges'}, (34, 67)) \n",
      "class of the tup : <class 'tuple'>\n"
     ]
    }
   ],
   "source": [
    "print('Empty tup :{} class of the tup : {}'.format(empty_tup, type(empty_tup)))\n",
    "print('tup_1 tup :\\n{}\\nclass of the tup : {}'.format( tup_1, type(tup_1)))\n",
    "print('tup_11 tup :\\n{} \\nclass of the tup : {}'.format( tup_11, type(tup_11)))\n",
    "print('Mix tup :\\n{} \\nclass of the tup : {}'.format( mix_tup, type(mix_tup)))"
   ]
  },
  {
   "cell_type": "code",
   "execution_count": 90,
   "metadata": {
    "collapsed": true,
    "jupyter": {
     "outputs_hidden": true
    },
    "tags": []
   },
   "outputs": [
    {
     "ename": "TypeError",
     "evalue": "'tuple' object does not support item assignment",
     "output_type": "error",
     "traceback": [
      "\u001b[1;31m---------------------------------------------------------------------------\u001b[0m",
      "\u001b[1;31mTypeError\u001b[0m                                 Traceback (most recent call last)",
      "\u001b[1;32m<ipython-input-90-24b25afc693c>\u001b[0m in \u001b[0;36m<module>\u001b[1;34m\u001b[0m\n\u001b[1;32m----> 1\u001b[1;33m \u001b[0mbasket_tup\u001b[0m\u001b[1;33m[\u001b[0m\u001b[1;36m7\u001b[0m\u001b[1;33m]\u001b[0m \u001b[1;33m=\u001b[0m \u001b[1;34m'EGGSS'\u001b[0m\u001b[1;33m\u001b[0m\u001b[1;33m\u001b[0m\u001b[0m\n\u001b[0m",
      "\u001b[1;31mTypeError\u001b[0m: 'tuple' object does not support item assignment"
     ]
    }
   ],
   "source": [
    "basket_tup[7] = 'EGGSS'"
   ]
  },
  {
   "cell_type": "code",
   "execution_count": 92,
   "metadata": {},
   "outputs": [],
   "source": [
    "import timeit\n",
    "import sys"
   ]
  },
  {
   "cell_type": "code",
   "execution_count": 93,
   "metadata": {},
   "outputs": [
    {
     "data": {
      "text/plain": [
       "0.01855939999995826"
      ]
     },
     "execution_count": 93,
     "metadata": {},
     "output_type": "execute_result"
    }
   ],
   "source": [
    "timeit.timeit('(1,)')"
   ]
  },
  {
   "cell_type": "code",
   "execution_count": 94,
   "metadata": {},
   "outputs": [
    {
     "data": {
      "text/plain": [
       "0.07088199999998324"
      ]
     },
     "execution_count": 94,
     "metadata": {},
     "output_type": "execute_result"
    }
   ],
   "source": [
    "timeit.timeit('[1]')"
   ]
  },
  {
   "cell_type": "code",
   "execution_count": 95,
   "metadata": {},
   "outputs": [
    {
     "data": {
      "text/plain": [
       "8024"
      ]
     },
     "execution_count": 95,
     "metadata": {},
     "output_type": "execute_result"
    }
   ],
   "source": [
    "tup = (1,)*1000\n",
    "tup.__sizeof__()"
   ]
  },
  {
   "cell_type": "code",
   "execution_count": 96,
   "metadata": {},
   "outputs": [
    {
     "data": {
      "text/plain": [
       "8040"
      ]
     },
     "execution_count": 96,
     "metadata": {},
     "output_type": "execute_result"
    }
   ],
   "source": [
    "l = [1,]*1000\n",
    "l.__sizeof__()"
   ]
  },
  {
   "cell_type": "code",
   "execution_count": 97,
   "metadata": {},
   "outputs": [
    {
     "data": {
      "text/plain": [
       "(['emma', 23], 45, {'apples', 'grapes', 'oranges'}, (34, 67))"
      ]
     },
     "execution_count": 97,
     "metadata": {},
     "output_type": "execute_result"
    }
   ],
   "source": [
    "mix_tup"
   ]
  },
  {
   "cell_type": "code",
   "execution_count": 98,
   "metadata": {},
   "outputs": [],
   "source": [
    "mix_tup[0][1] = 67"
   ]
  },
  {
   "cell_type": "code",
   "execution_count": 99,
   "metadata": {},
   "outputs": [
    {
     "data": {
      "text/plain": [
       "(['emma', 67], 45, {'apples', 'grapes', 'oranges'}, (34, 67))"
      ]
     },
     "execution_count": 99,
     "metadata": {},
     "output_type": "execute_result"
    }
   ],
   "source": [
    "mix_tup"
   ]
  },
  {
   "cell_type": "code",
   "execution_count": 100,
   "metadata": {},
   "outputs": [],
   "source": [
    "mix_tup[0].append('append')"
   ]
  },
  {
   "cell_type": "code",
   "execution_count": 101,
   "metadata": {},
   "outputs": [
    {
     "data": {
      "text/plain": [
       "(['emma', 67, 'append'], 45, {'apples', 'grapes', 'oranges'}, (34, 67))"
      ]
     },
     "execution_count": 101,
     "metadata": {},
     "output_type": "execute_result"
    }
   ],
   "source": [
    "mix_tup"
   ]
  },
  {
   "cell_type": "markdown",
   "metadata": {},
   "source": [
    "# 4. Dictionaries : unordered collection of key value pairs \n",
    "    - where keys are separated from values using ':'\n",
    "    - 1 key - value pair is 1 item / element. Elements are separated buy comma. \n",
    "    - keys should be immuatable object and unique. Generally strings or numbers\n",
    "    - values can be any arbitrary python object : numbers strings list tuples sets dictionaries ...."
   ]
  },
  {
   "cell_type": "code",
   "execution_count": 102,
   "metadata": {},
   "outputs": [
    {
     "ename": "TypeError",
     "evalue": "'str' object does not support item assignment",
     "output_type": "error",
     "traceback": [
      "\u001b[1;31m---------------------------------------------------------------------------\u001b[0m",
      "\u001b[1;31mTypeError\u001b[0m                                 Traceback (most recent call last)",
      "\u001b[1;32m<ipython-input-102-1fc2ecf5a426>\u001b[0m in \u001b[0;36m<module>\u001b[1;34m\u001b[0m\n\u001b[0;32m      1\u001b[0m \u001b[1;31m# strings are immutable\u001b[0m\u001b[1;33m\u001b[0m\u001b[1;33m\u001b[0m\u001b[1;33m\u001b[0m\u001b[0m\n\u001b[0;32m      2\u001b[0m \u001b[0mstring\u001b[0m \u001b[1;33m=\u001b[0m \u001b[1;34m'Test'\u001b[0m\u001b[1;33m\u001b[0m\u001b[1;33m\u001b[0m\u001b[0m\n\u001b[1;32m----> 3\u001b[1;33m \u001b[0mstring\u001b[0m\u001b[1;33m[\u001b[0m\u001b[1;36m3\u001b[0m\u001b[1;33m]\u001b[0m \u001b[1;33m=\u001b[0m \u001b[1;34m's'\u001b[0m\u001b[1;33m\u001b[0m\u001b[1;33m\u001b[0m\u001b[0m\n\u001b[0m",
      "\u001b[1;31mTypeError\u001b[0m: 'str' object does not support item assignment"
     ]
    }
   ],
   "source": [
    "# strings are immutable \n",
    "string = 'Test'\n",
    "string[3] = 's'"
   ]
  },
  {
   "cell_type": "code",
   "execution_count": 103,
   "metadata": {},
   "outputs": [],
   "source": [
    "empty_dict = {} # dict()\n",
    "dict1 = { 1 : 'a', 2 : 'b', 3 : 'c', 'd' : 4,  5.1 : 'e1' }"
   ]
  },
  {
   "cell_type": "code",
   "execution_count": 104,
   "metadata": {},
   "outputs": [
    {
     "name": "stdout",
     "output_type": "stream",
     "text": [
      "Empty Dictionary : {} <class 'dict'>\n",
      "Dict1 Dictionary : {1: 'a', 2: 'b', 3: 'c', 'd': 4, 5.1: 'e1'} <class 'dict'>\n"
     ]
    }
   ],
   "source": [
    "print('Empty Dictionary :', empty_dict, type(empty_dict))\n",
    "print('Dict1 Dictionary :', dict1, type(dict1))"
   ]
  },
  {
   "cell_type": "code",
   "execution_count": 105,
   "metadata": {},
   "outputs": [
    {
     "ename": "TypeError",
     "evalue": "unhashable type: 'list'",
     "output_type": "error",
     "traceback": [
      "\u001b[1;31m---------------------------------------------------------------------------\u001b[0m",
      "\u001b[1;31mTypeError\u001b[0m                                 Traceback (most recent call last)",
      "\u001b[1;32m<ipython-input-105-5029ca823262>\u001b[0m in \u001b[0;36m<module>\u001b[1;34m\u001b[0m\n\u001b[1;32m----> 1\u001b[1;33m \u001b[0mdict2\u001b[0m \u001b[1;33m=\u001b[0m \u001b[1;33m{\u001b[0m\u001b[1;33m[\u001b[0m\u001b[1;36m45\u001b[0m\u001b[1;33m,\u001b[0m\u001b[1;36m67\u001b[0m\u001b[1;33m]\u001b[0m \u001b[1;33m:\u001b[0m \u001b[1;36m76\u001b[0m\u001b[1;33m}\u001b[0m\u001b[1;33m\u001b[0m\u001b[1;33m\u001b[0m\u001b[0m\n\u001b[0m\u001b[0;32m      2\u001b[0m \u001b[0mdict2\u001b[0m\u001b[1;33m\u001b[0m\u001b[1;33m\u001b[0m\u001b[0m\n",
      "\u001b[1;31mTypeError\u001b[0m: unhashable type: 'list'"
     ]
    }
   ],
   "source": [
    "dict2 = {[45,67] : 76}\n",
    "dict2"
   ]
  },
  {
   "cell_type": "code",
   "execution_count": 106,
   "metadata": {},
   "outputs": [
    {
     "data": {
      "text/plain": [
       "{(45, 67): 76}"
      ]
     },
     "execution_count": 106,
     "metadata": {},
     "output_type": "execute_result"
    }
   ],
   "source": [
    "dict2 = {(45,67) : 76}\n",
    "dict2"
   ]
  },
  {
   "cell_type": "code",
   "execution_count": 107,
   "metadata": {},
   "outputs": [],
   "source": [
    "d = {('Hyd', 'Ind') : [23, 26, 28, 28, 27, 28, 28, 29],\n",
    "('Hyd', 'Pak'):   [39, 38, 37, 37, 37, 37, 36, 36]}"
   ]
  },
  {
   "cell_type": "markdown",
   "metadata": {},
   "source": [
    "## keys are the indices "
   ]
  },
  {
   "cell_type": "code",
   "execution_count": 110,
   "metadata": {},
   "outputs": [],
   "source": [
    "employee = {'Name' : 'John Doe',\n",
    "           'Age' : 25,\n",
    "           'Exp' : 3,\n",
    "           'Desig' : 'JE'}"
   ]
  },
  {
   "cell_type": "code",
   "execution_count": 109,
   "metadata": {},
   "outputs": [
    {
     "data": {
      "text/plain": [
       "{1: 'a', 2: 'b', 3: 'c', 'd': 4, 5.1: 'e1'}"
      ]
     },
     "execution_count": 109,
     "metadata": {},
     "output_type": "execute_result"
    }
   ],
   "source": [
    "dict1"
   ]
  },
  {
   "cell_type": "code",
   "execution_count": 111,
   "metadata": {},
   "outputs": [
    {
     "data": {
      "text/plain": [
       "'a'"
      ]
     },
     "execution_count": 111,
     "metadata": {},
     "output_type": "execute_result"
    }
   ],
   "source": [
    "dict1[1]"
   ]
  },
  {
   "cell_type": "code",
   "execution_count": 135,
   "metadata": {},
   "outputs": [
    {
     "data": {
      "text/plain": [
       "4"
      ]
     },
     "execution_count": 135,
     "metadata": {},
     "output_type": "execute_result"
    }
   ],
   "source": [
    "dict1['d']"
   ]
  },
  {
   "cell_type": "code",
   "execution_count": 137,
   "metadata": {},
   "outputs": [
    {
     "data": {
      "text/plain": [
       "'e1'"
      ]
     },
     "execution_count": 137,
     "metadata": {},
     "output_type": "execute_result"
    }
   ],
   "source": [
    "dict1[5.1]"
   ]
  },
  {
   "cell_type": "code",
   "execution_count": 112,
   "metadata": {},
   "outputs": [
    {
     "data": {
      "text/plain": [
       "'John Doe'"
      ]
     },
     "execution_count": 112,
     "metadata": {},
     "output_type": "execute_result"
    }
   ],
   "source": [
    "employee['Name']"
   ]
  },
  {
   "cell_type": "code",
   "execution_count": 113,
   "metadata": {},
   "outputs": [
    {
     "name": "stdout",
     "output_type": "stream",
     "text": [
      "{'Name': 'John', 'Age': 25, 'Exp': 3, 'Desig': 'JE'}\n"
     ]
    }
   ],
   "source": [
    "employee =  {'Name' : 'John Doe',\n",
    "           'Age' : 25,\n",
    "           'Exp' : 3,\n",
    "           'Desig' : 'JE',\n",
    "            'Name': 'John'}\n",
    "print(employee)"
   ]
  },
  {
   "cell_type": "code",
   "execution_count": 114,
   "metadata": {},
   "outputs": [
    {
     "name": "stdout",
     "output_type": "stream",
     "text": [
      "{'brand': ['Honda', 'Renault', 'Hyundai', 'Merc'], 'Type': ['Sedan', 'Suvs'], 'Year': 2020}\n"
     ]
    }
   ],
   "source": [
    "car = {'brand' : ['Honda', 'Renault', 'Hyundai', 'Merc'],\n",
    "       'Type' : ['Sedan', 'Suvs'],\n",
    "       'Year' : 2020}\n",
    "print(car)"
   ]
  },
  {
   "cell_type": "code",
   "execution_count": 142,
   "metadata": {},
   "outputs": [],
   "source": [
    "# Acess elements in dictionary"
   ]
  },
  {
   "cell_type": "markdown",
   "metadata": {},
   "source": [
    "### get all the keys ??"
   ]
  },
  {
   "cell_type": "code",
   "execution_count": 143,
   "metadata": {},
   "outputs": [
    {
     "data": {
      "text/plain": [
       "dict_keys(['Name', 'Age', 'Exp', 'Desig'])"
      ]
     },
     "execution_count": 143,
     "metadata": {},
     "output_type": "execute_result"
    }
   ],
   "source": [
    "employee.keys()"
   ]
  },
  {
   "cell_type": "markdown",
   "metadata": {},
   "source": [
    "### gett all the values"
   ]
  },
  {
   "cell_type": "code",
   "execution_count": 115,
   "metadata": {},
   "outputs": [
    {
     "data": {
      "text/plain": [
       "dict_values(['John', 25, 3, 'JE'])"
      ]
     },
     "execution_count": 115,
     "metadata": {},
     "output_type": "execute_result"
    }
   ],
   "source": [
    "employee.values()"
   ]
  },
  {
   "cell_type": "markdown",
   "metadata": {},
   "source": [
    "### get all items / elements"
   ]
  },
  {
   "cell_type": "code",
   "execution_count": 116,
   "metadata": {},
   "outputs": [
    {
     "data": {
      "text/plain": [
       "dict_items([('Name', 'John'), ('Age', 25), ('Exp', 3), ('Desig', 'JE')])"
      ]
     },
     "execution_count": 116,
     "metadata": {},
     "output_type": "execute_result"
    }
   ],
   "source": [
    "employee.items()"
   ]
  },
  {
   "cell_type": "code",
   "execution_count": 147,
   "metadata": {},
   "outputs": [
    {
     "data": {
      "text/plain": [
       "'LT'"
      ]
     },
     "execution_count": 147,
     "metadata": {},
     "output_type": "execute_result"
    }
   ],
   "source": [
    "employee['Desig']"
   ]
  },
  {
   "cell_type": "markdown",
   "metadata": {},
   "source": [
    "### adding ittems to the dictionary "
   ]
  },
  {
   "cell_type": "code",
   "execution_count": 117,
   "metadata": {},
   "outputs": [
    {
     "name": "stdout",
     "output_type": "stream",
     "text": [
      "Before add {'Name': 'John', 'Age': 25, 'Exp': 3, 'Desig': 'JE'}\n",
      "After add {'Name': 'John', 'Age': 25, 'Exp': 3, 'Desig': 'JE', 'Org': 'Test'}\n"
     ]
    }
   ],
   "source": [
    "# if the key already exist it will modify\n",
    "# if not it will add it\n",
    "print('Before add', employee)\n",
    "employee['Org'] = 'Test'\n",
    "print('After add', employee)"
   ]
  },
  {
   "cell_type": "code",
   "execution_count": 118,
   "metadata": {},
   "outputs": [
    {
     "name": "stdout",
     "output_type": "stream",
     "text": [
      "Before add {'Name': 'John', 'Age': 25, 'Exp': 3, 'Desig': 'JE', 'Org': 'Test'}\n",
      "After add {'Name': 'John', 'Age': 25, 'Exp': 3, 'Desig': 'SE', 'Org': 'Test'}\n"
     ]
    }
   ],
   "source": [
    "print('Before add', employee)\n",
    "employee['Desig'] = 'SE'\n",
    "print('After add', employee)"
   ]
  },
  {
   "cell_type": "code",
   "execution_count": 119,
   "metadata": {},
   "outputs": [
    {
     "name": "stdout",
     "output_type": "stream",
     "text": [
      "{'Name': 'John', 'Age': 25, 'Exp': 7.5, 'Desig': 'SE', 'Org': 'Test', 'Clients': ['AE', 'DE', 'FG']}\n"
     ]
    }
   ],
   "source": [
    "employee.update({'Clients' :['AE', 'DE', 'FG'], 'Exp': 7.5})\n",
    "print(employee)"
   ]
  },
  {
   "cell_type": "code",
   "execution_count": 120,
   "metadata": {},
   "outputs": [
    {
     "name": "stdout",
     "output_type": "stream",
     "text": [
      "Before Remove {'Name': 'John', 'Age': 25, 'Exp': 7.5, 'Desig': 'SE', 'Org': 'Test', 'Clients': ['AE', 'DE', 'FG']}\n",
      "Value popped ['AE', 'DE', 'FG']\n",
      "After Remove {'Name': 'John', 'Age': 25, 'Exp': 7.5, 'Desig': 'SE', 'Org': 'Test'}\n"
     ]
    }
   ],
   "source": [
    "print('Before Remove', employee)\n",
    "print('Value popped', employee.pop('Clients'))\n",
    "print('After Remove', employee)"
   ]
  },
  {
   "cell_type": "code",
   "execution_count": 121,
   "metadata": {},
   "outputs": [
    {
     "name": "stdout",
     "output_type": "stream",
     "text": [
      "Before Remove {'Name': 'John', 'Age': 25, 'Exp': 7.5, 'Desig': 'SE', 'Org': 'Test'}\n"
     ]
    },
    {
     "ename": "KeyError",
     "evalue": "'Clients'",
     "output_type": "error",
     "traceback": [
      "\u001b[1;31m---------------------------------------------------------------------------\u001b[0m",
      "\u001b[1;31mKeyError\u001b[0m                                  Traceback (most recent call last)",
      "\u001b[1;32m<ipython-input-121-b06e6a78afb4>\u001b[0m in \u001b[0;36m<module>\u001b[1;34m\u001b[0m\n\u001b[0;32m      1\u001b[0m \u001b[0mprint\u001b[0m\u001b[1;33m(\u001b[0m\u001b[1;34m'Before Remove'\u001b[0m\u001b[1;33m,\u001b[0m \u001b[0memployee\u001b[0m\u001b[1;33m)\u001b[0m\u001b[1;33m\u001b[0m\u001b[1;33m\u001b[0m\u001b[0m\n\u001b[1;32m----> 2\u001b[1;33m \u001b[0mprint\u001b[0m\u001b[1;33m(\u001b[0m\u001b[1;34m'Value popped'\u001b[0m\u001b[1;33m,\u001b[0m \u001b[0memployee\u001b[0m\u001b[1;33m.\u001b[0m\u001b[0mpop\u001b[0m\u001b[1;33m(\u001b[0m\u001b[1;34m'Clients'\u001b[0m\u001b[1;33m)\u001b[0m\u001b[1;33m)\u001b[0m\u001b[1;33m\u001b[0m\u001b[1;33m\u001b[0m\u001b[0m\n\u001b[0m\u001b[0;32m      3\u001b[0m \u001b[0mprint\u001b[0m\u001b[1;33m(\u001b[0m\u001b[1;34m'After Remove'\u001b[0m\u001b[1;33m,\u001b[0m \u001b[0memployee\u001b[0m\u001b[1;33m)\u001b[0m\u001b[1;33m\u001b[0m\u001b[1;33m\u001b[0m\u001b[0m\n",
      "\u001b[1;31mKeyError\u001b[0m: 'Clients'"
     ]
    }
   ],
   "source": [
    "print('Before Remove', employee)\n",
    "print('Value popped', employee.pop('Clients'))\n",
    "print('After Remove', employee)"
   ]
  },
  {
   "cell_type": "code",
   "execution_count": 122,
   "metadata": {},
   "outputs": [
    {
     "name": "stdout",
     "output_type": "stream",
     "text": [
      "Before Remove {'Name': 'John', 'Age': 25, 'Exp': 7.5, 'Desig': 'SE', 'Org': 'Test'}\n",
      "Value popped ABSENT\n",
      "After Remove {'Name': 'John', 'Age': 25, 'Exp': 7.5, 'Desig': 'SE', 'Org': 'Test'}\n"
     ]
    }
   ],
   "source": [
    "print('Before Remove', employee)\n",
    "print('Value popped', employee.pop('Clients', 'ABSENT'))\n",
    "print('After Remove', employee)"
   ]
  },
  {
   "cell_type": "code",
   "execution_count": 123,
   "metadata": {},
   "outputs": [
    {
     "data": {
      "text/plain": [
       "{'Name': 'John', 'Age': 25, 'Exp': 7.5, 'Desig': 'SE', 'Org': 'Test'}"
      ]
     },
     "execution_count": 123,
     "metadata": {},
     "output_type": "execute_result"
    }
   ],
   "source": [
    "employee"
   ]
  },
  {
   "cell_type": "code",
   "execution_count": 124,
   "metadata": {},
   "outputs": [
    {
     "name": "stdout",
     "output_type": "stream",
     "text": [
      "{'Name': 'John', 'Age': 25, 'Exp': 7.5, 'Desig': 'SE', 'Org': 'Test'}\n",
      "('Org', 'Test')\n",
      "{'Name': 'John', 'Age': 25, 'Exp': 7.5, 'Desig': 'SE'}\n"
     ]
    }
   ],
   "source": [
    "print(employee)\n",
    "print(employee.popitem())\n",
    "print(employee)\n"
   ]
  },
  {
   "cell_type": "markdown",
   "metadata": {},
   "source": [
    "# Brackets :\n",
    "    1. [ ] - square brackets \n",
    "        * define or create lists\n",
    "        * for indexing \n",
    "    2. ( ) - parenthesis\n",
    "        * define or create tuples\n",
    "        * with functions / classes to pass parameters \n",
    "    3. { } - curly brackets\n",
    "        * define or create dictionaries \n",
    "        * define or create sets"
   ]
  },
  {
   "cell_type": "markdown",
   "metadata": {},
   "source": [
    "# Conditional Statements"
   ]
  },
  {
   "cell_type": "raw",
   "metadata": {},
   "source": [
    "if expression :\n",
    "    statement_1\n",
    "    statement_2\n",
    "    statement_3\n",
    "    statement_4\n",
    "else : # optional\n",
    "    statement_1\n",
    "    statement_2\n",
    "    statement_3"
   ]
  },
  {
   "cell_type": "markdown",
   "metadata": {},
   "source": [
    "## check number is even or odd\n"
   ]
  },
  {
   "cell_type": "markdown",
   "metadata": {},
   "source": [
    "#### take input from user"
   ]
  },
  {
   "cell_type": "code",
   "execution_count": 128,
   "metadata": {},
   "outputs": [
    {
     "name": "stdin",
     "output_type": "stream",
     "text": [
      "Please enter number : 10\n"
     ]
    }
   ],
   "source": [
    "no = int(input('Please enter number :'))"
   ]
  },
  {
   "cell_type": "code",
   "execution_count": 126,
   "metadata": {},
   "outputs": [
    {
     "data": {
      "text/plain": [
       "int"
      ]
     },
     "execution_count": 126,
     "metadata": {},
     "output_type": "execute_result"
    }
   ],
   "source": [
    "type(no)"
   ]
  },
  {
   "cell_type": "code",
   "execution_count": 129,
   "metadata": {},
   "outputs": [
    {
     "name": "stdout",
     "output_type": "stream",
     "text": [
      "Even\n"
     ]
    }
   ],
   "source": [
    "if no%2 == 0:\n",
    "    print('Even')\n",
    "else :\n",
    "    print('odd')"
   ]
  },
  {
   "cell_type": "markdown",
   "metadata": {},
   "source": [
    "### Single suite statements"
   ]
  },
  {
   "cell_type": "code",
   "execution_count": 130,
   "metadata": {},
   "outputs": [
    {
     "name": "stdout",
     "output_type": "stream",
     "text": [
      "Even\n"
     ]
    }
   ],
   "source": [
    "if no%2 == 0:print('Even')\n",
    "else :print('odd')"
   ]
  },
  {
   "cell_type": "markdown",
   "metadata": {},
   "source": [
    "# grading :\n",
    "    - 90 & above -> A\n",
    "    - 75  -  90  -> B\n",
    "    - 55  -  75  -> C\n",
    "    - 35  -  55  -> D\n",
    "    - below  35  -> F\n"
   ]
  },
  {
   "cell_type": "code",
   "execution_count": 131,
   "metadata": {},
   "outputs": [
    {
     "name": "stdin",
     "output_type": "stream",
     "text": [
      "Please enter marks :  100\n"
     ]
    },
    {
     "data": {
      "text/plain": [
       "'A'"
      ]
     },
     "execution_count": 131,
     "metadata": {},
     "output_type": "execute_result"
    }
   ],
   "source": [
    "marks = float(input('Please enter marks : '))\n",
    "if marks >=90 : grade = 'A'\n",
    "else : \n",
    "    if marks >=75 : grade = 'B'\n",
    "    else :\n",
    "        if marks >= 55 : grade = 'C'\n",
    "        else : \n",
    "            if marks >= 35 : grade ='D'\n",
    "            else : grade = 'F'\n",
    "grade"
   ]
  },
  {
   "cell_type": "code",
   "execution_count": 172,
   "metadata": {},
   "outputs": [
    {
     "name": "stdin",
     "output_type": "stream",
     "text": [
      "Please enter marks :  91.22\n"
     ]
    },
    {
     "data": {
      "text/plain": [
       "'A'"
      ]
     },
     "execution_count": 172,
     "metadata": {},
     "output_type": "execute_result"
    }
   ],
   "source": [
    "marks = float(input('Please enter marks : '))\n",
    "if marks >=90 : grade = 'A'\n",
    "elif marks >=75 : grade = 'B'\n",
    "elif marks >= 55 : grade = 'C'\n",
    "elif marks >= 35 : grade ='D'\n",
    "else : grade = 'F'\n",
    "grade"
   ]
  },
  {
   "cell_type": "code",
   "execution_count": 173,
   "metadata": {},
   "outputs": [],
   "source": [
    "# discount : if  member and purchase is above 500 : 25%\n",
    "# if not a member but purchase above 1000 : 20%\n",
    "# Flat disc for ithers = 55"
   ]
  },
  {
   "cell_type": "code",
   "execution_count": 133,
   "metadata": {},
   "outputs": [],
   "source": [
    "mem = 'Y'\n",
    "bill_amnt = 2311"
   ]
  },
  {
   "cell_type": "code",
   "execution_count": 134,
   "metadata": {},
   "outputs": [
    {
     "data": {
      "text/plain": [
       "0.25"
      ]
     },
     "execution_count": 134,
     "metadata": {},
     "output_type": "execute_result"
    }
   ],
   "source": [
    "if mem == 'Y' and bill_amnt >= 500:\n",
    "    disc = 0.25\n",
    "elif mem == 'N' and bill_amnt >= 1000:\n",
    "    disc = 0.20\n",
    "else :\n",
    "    disc = 0.05\n",
    "disc"
   ]
  },
  {
   "cell_type": "code",
   "execution_count": 135,
   "metadata": {},
   "outputs": [
    {
     "data": {
      "text/plain": [
       "0.25"
      ]
     },
     "execution_count": 135,
     "metadata": {},
     "output_type": "execute_result"
    }
   ],
   "source": [
    "if (mem == 'Y') & (bill_amnt >= 500):\n",
    "    disc = 0.25\n",
    "elif (mem == 'N') & (bill_amnt >= 1000):\n",
    "    disc = 0.20\n",
    "else :\n",
    "    disc = 0.05\n",
    "disc"
   ]
  },
  {
   "cell_type": "code",
   "execution_count": 179,
   "metadata": {},
   "outputs": [
    {
     "data": {
      "text/plain": [
       "0.25"
      ]
     },
     "execution_count": 179,
     "metadata": {},
     "output_type": "execute_result"
    }
   ],
   "source": [
    "disc"
   ]
  },
  {
   "cell_type": "code",
   "execution_count": 136,
   "metadata": {},
   "outputs": [],
   "source": [
    "countries = ['Malaysia', 'Bhutan', 'Indonesia', 'Nepal', 'Mauritius',  'Cook Islands','Fiji',  'Barbados',\n",
    "            'British Virgin Islands', 'Dominica','Grenada','Haiti','Jamaica','Montserrat','St. Kitts and Nevis',\n",
    "            'St. Vincent and the Grenadines','Trinidad and Tobago',\n",
    "            'El Salvador', 'Qatar']"
   ]
  },
  {
   "cell_type": "code",
   "execution_count": 137,
   "metadata": {},
   "outputs": [],
   "source": [
    "country = 'Bhutan'"
   ]
  },
  {
   "cell_type": "code",
   "execution_count": 138,
   "metadata": {},
   "outputs": [
    {
     "name": "stdout",
     "output_type": "stream",
     "text": [
      "visa on arrival\n"
     ]
    }
   ],
   "source": [
    "if country in countries:\n",
    "    print('visa on arrival')\n",
    "else :\n",
    "    print('required')"
   ]
  },
  {
   "cell_type": "markdown",
   "metadata": {},
   "source": [
    "## Rock Paper Scissor game "
   ]
  },
  {
   "cell_type": "markdown",
   "metadata": {},
   "source": [
    "# Loops : iteration statements \n",
    "    1. for loop  : if iteration is for definite no. of times \n",
    "    2. while loop : iteration based on condition"
   ]
  },
  {
   "cell_type": "code",
   "execution_count": 189,
   "metadata": {},
   "outputs": [
    {
     "name": "stdout",
     "output_type": "stream",
     "text": [
      "List of Countries\n",
      "Malaysia\n",
      "Bhutan\n",
      "Indonesia\n",
      "Nepal\n",
      "Mauritius\n",
      "Cook Islands\n",
      "Fiji\n",
      "Barbados\n",
      "British Virgin Islands\n",
      "Dominica\n",
      "Grenada\n",
      "Haiti\n",
      "Jamaica\n",
      "Montserrat\n",
      "St. Kitts and Nevis\n",
      "St. Vincent and the Grenadines\n",
      "Trinidad and Tobago\n",
      "El Salvador\n",
      "Qatar\n"
     ]
    }
   ],
   "source": [
    "print('List of Countries')\n",
    "for country in countries:\n",
    "    print(country)"
   ]
  },
  {
   "cell_type": "code",
   "execution_count": 191,
   "metadata": {},
   "outputs": [
    {
     "name": "stdout",
     "output_type": "stream",
     "text": [
      "Malaysia\n",
      "Bhutan\n",
      "Indonesia\n",
      "Nepal\n",
      "Mauritius\n",
      "Cook Islands\n",
      "Fiji\n",
      "Barbados\n",
      "British Virgin Islands\n",
      "Dominica\n",
      "Grenada\n",
      "Haiti\n",
      "Jamaica\n",
      "Montserrat\n",
      "St. Kitts and Nevis\n",
      "St. Vincent and the Grenadines\n",
      "Trinidad and Tobago\n",
      "El Salvador\n",
      "Qatar\n"
     ]
    }
   ],
   "source": [
    "count = 0\n",
    "while count < len(countries):\n",
    "    print(countries[count])\n",
    "    count +=1\n"
   ]
  },
  {
   "cell_type": "markdown",
   "metadata": {},
   "source": [
    "   -Mean\n",
    "   -Median\n",
    "   -Mode\n",
    "   "
   ]
  },
  {
   "cell_type": "code",
   "execution_count": 169,
   "metadata": {},
   "outputs": [
    {
     "name": "stdout",
     "output_type": "stream",
     "text": [
      "[17, 15, 14, 22, 2, 21, 28, 17, 15, 20]\n",
      "Mean is 17.10, median is 18.5\n"
     ]
    }
   ],
   "source": [
    "import random\n",
    "randomlist = [] \n",
    "for i in range(0,10): \n",
    "    n = random. randint(1,30)\n",
    "    randomlist.append(n)\n",
    "mean=sum(randomlist)/len(randomlist)\n",
    "cnt = len(randomlist)\n",
    "newlist = randomlist[ : ]\n",
    "newlist.sort()\n",
    "#print(newlist,  cnt%2, cnt)\n",
    "median = None\n",
    "if cnt%2>0:\n",
    "    median = newlist[cnt//2]\n",
    "else:\n",
    "    before = cnt//2\n",
    "    after = before+1\n",
    "    median =  (newlist[before]+newlist[after])/2\n",
    "print(randomlist)\n",
    "print(\"Mean is {0:,.2f}, median is {1}\".format(mean, median))"
   ]
  },
  {
   "cell_type": "code",
   "execution_count": null,
   "metadata": {},
   "outputs": [],
   "source": []
  }
 ],
 "metadata": {
  "kernelspec": {
   "display_name": "Python 3",
   "language": "python",
   "name": "python3"
  },
  "language_info": {
   "codemirror_mode": {
    "name": "ipython",
    "version": 3
   },
   "file_extension": ".py",
   "mimetype": "text/x-python",
   "name": "python",
   "nbconvert_exporter": "python",
   "pygments_lexer": "ipython3",
   "version": "3.8.8"
  }
 },
 "nbformat": 4,
 "nbformat_minor": 4
}
